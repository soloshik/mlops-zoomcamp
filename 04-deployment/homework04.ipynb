{
 "cells": [
  {
   "cell_type": "code",
   "execution_count": 3,
   "metadata": {},
   "outputs": [
    {
     "name": "stdout",
     "output_type": "stream",
     "text": [
      "scikit-learn==1.5.0\r\n",
      "scikit-learn-intelex==2021.20220215.212715\r\n"
     ]
    }
   ],
   "source": [
    "!pip freeze | grep scikit-learn"
   ]
  },
  {
   "cell_type": "code",
   "execution_count": 17,
   "metadata": {},
   "outputs": [
    {
     "name": "stdout",
     "output_type": "stream",
     "text": [
      "Python 3.9.12\r\n"
     ]
    }
   ],
   "source": [
    "!python -V"
   ]
  },
  {
   "cell_type": "code",
   "execution_count": 27,
   "metadata": {},
   "outputs": [],
   "source": [
    "import pickle\n",
    "import pandas as pd\n",
    "import numpy as np\n",
    "import os"
   ]
  },
  {
   "cell_type": "code",
   "execution_count": 19,
   "metadata": {},
   "outputs": [],
   "source": [
    "with open('model.bin', 'rb') as f_in:\n",
    "    dv, model = pickle.load(f_in)"
   ]
  },
  {
   "cell_type": "code",
   "execution_count": 20,
   "metadata": {},
   "outputs": [],
   "source": [
    "categorical = ['PULocationID', 'DOLocationID']\n",
    "\n",
    "def read_data(filename):\n",
    "    df = pd.read_parquet(filename)\n",
    "    \n",
    "    df['duration'] = df.tpep_dropoff_datetime - df.tpep_pickup_datetime\n",
    "    df['duration'] = df.duration.dt.total_seconds() / 60\n",
    "\n",
    "    df = df[(df.duration >= 1) & (df.duration <= 60)].copy()\n",
    "\n",
    "    df[categorical] = df[categorical].fillna(-1).astype('int').astype('str')\n",
    "    \n",
    "    return df"
   ]
  },
  {
   "cell_type": "code",
   "execution_count": 21,
   "metadata": {},
   "outputs": [],
   "source": [
    "df = read_data('https://d37ci6vzurychx.cloudfront.net/trip-data/yellow_tripdata_2023-03.parquet')"
   ]
  },
  {
   "cell_type": "code",
   "execution_count": 22,
   "metadata": {},
   "outputs": [],
   "source": [
    "dicts = df[categorical].to_dict(orient='records')\n",
    "X_val = dv.transform(dicts)\n",
    "y_pred = model.predict(X_val)"
   ]
  },
  {
   "cell_type": "code",
   "execution_count": 23,
   "metadata": {},
   "outputs": [
    {
     "name": "stdout",
     "output_type": "stream",
     "text": [
      "Standard deviation of predicted duration: 6.25\n"
     ]
    }
   ],
   "source": [
    "# Calculate the standard deviation of the predicted duration\n",
    "std_dev = np.std(y_pred)\n",
    "print(f\"Standard deviation of predicted duration: {std_dev:.2f}\")"
   ]
  },
  {
   "cell_type": "markdown",
   "metadata": {},
   "source": [
    "Q2"
   ]
  },
  {
   "cell_type": "code",
   "execution_count": 32,
   "metadata": {},
   "outputs": [
    {
     "name": "stdout",
     "output_type": "stream",
     "text": [
      "Size of the output file: 65.46M\n"
     ]
    }
   ],
   "source": [
    "# Create a dataframe with ride_id and predictions\n",
    "df_result = pd.DataFrame()\n",
    "df_result['ride_id'] = '2023/03_' + df.index.astype('str')\n",
    "df_result['predictions'] = y_pred\n",
    "\n",
    "# Save the result as parquet\n",
    "output_file = 'results.parquet'\n",
    "df_result.to_parquet(\n",
    "    output_file,\n",
    "    engine='pyarrow',\n",
    "    compression=None,\n",
    "    index=False\n",
    ")\n",
    "\n",
    "# file size\n",
    "file_size = os.path.getsize(output_file) / (1024 * 1024)  # Convert to MB\n",
    "print(f\"Size of the output file: {file_size:.2f}M\")"
   ]
  },
  {
   "cell_type": "markdown",
   "metadata": {},
   "source": [
    "Q4"
   ]
  },
  {
   "cell_type": "code",
   "execution_count": 2,
   "metadata": {},
   "outputs": [
    {
     "name": "stdout",
     "output_type": "stream",
     "text": [
      "Requirement already satisfied: pipenv in /home/codespace/anaconda3/lib/python3.9/site-packages (2024.4.0)\n",
      "Requirement already satisfied: virtualenv>=20.24.2 in /home/codespace/anaconda3/lib/python3.9/site-packages (from pipenv) (20.27.1)\n",
      "Requirement already satisfied: setuptools>=67 in /home/codespace/anaconda3/lib/python3.9/site-packages (from pipenv) (75.5.0)\n",
      "Requirement already satisfied: certifi in /home/codespace/anaconda3/lib/python3.9/site-packages (from pipenv) (2021.10.8)\n",
      "Requirement already satisfied: packaging>=22 in /home/codespace/anaconda3/lib/python3.9/site-packages (from pipenv) (24.2)\n",
      "Requirement already satisfied: filelock<4,>=3.12.2 in /home/codespace/anaconda3/lib/python3.9/site-packages (from virtualenv>=20.24.2->pipenv) (3.16.1)\n",
      "Requirement already satisfied: platformdirs<5,>=3.9.1 in /home/codespace/anaconda3/lib/python3.9/site-packages (from virtualenv>=20.24.2->pipenv) (4.3.6)\n",
      "Requirement already satisfied: distlib<1,>=0.3.7 in /home/codespace/anaconda3/lib/python3.9/site-packages (from virtualenv>=20.24.2->pipenv) (0.3.9)\n",
      "Note: you may need to restart the kernel to use updated packages.\n"
     ]
    }
   ],
   "source": [
    "pip install pipenv"
   ]
  },
  {
   "cell_type": "code",
   "execution_count": 4,
   "metadata": {},
   "outputs": [
    {
     "name": "stdout",
     "output_type": "stream",
     "text": [
      "\u001b[1mCreating a virtualenv for this project\u001b[0m\n",
      "Pipfile: \u001b[1;33m/workspaces/mlops-zoomcamp/04-deployment/\u001b[0m\u001b[1;33mPipfile\u001b[0m\n",
      "\u001b[1mUsing default python from\u001b[0m \u001b[1;33m/home/codespace/anaconda3/bin/\u001b[0m\u001b[1;33mpython\u001b[0m\u001b[32m3.9.12\u001b[0m\u001b[32m \u001b[0m\u001b[1;32mto create \u001b[0m\n",
      "\u001b[1;32mvirtualenv\u001b[0m\u001b[1;32m...\u001b[0m\n",
      "\u001b[2K\u001b[32m⠇\u001b[0m Creating virtual environment.....\u001b[36mcreated virtual environment CPython3.\u001b[0m\u001b[1;36m9.12\u001b[0m\u001b[36m.final.\u001b[0m\u001b[1;36m0\u001b[0m\u001b[36m-\u001b[0m\u001b[1;36m64\u001b[0m\u001b[36m in 643ms\u001b[0m\n",
      "\u001b[36m  creator \u001b[0m\n",
      "\u001b[1;36mCPython3Posix\u001b[0m\u001b[1;36m(\u001b[0m\u001b[36mdest\u001b[0m\u001b[36m=\u001b[0m\u001b[36m/home/codespace/.local/share/virtualenvs/\u001b[0m\u001b[36m04-deployment-yWDDY4\u001b[0m\n",
      "\u001b[36mm_\u001b[0m\u001b[36m, \u001b[0m\u001b[36mclear\u001b[0m\u001b[36m=\u001b[0m\u001b[3;36mFalse\u001b[0m\u001b[36m, \u001b[0m\u001b[36mno_vcs_ignore\u001b[0m\u001b[36m=\u001b[0m\u001b[3;36mFalse\u001b[0m\u001b[36m, \u001b[0m\u001b[36mglobal\u001b[0m\u001b[36m=\u001b[0m\u001b[3;36mFalse\u001b[0m\u001b[1;36m)\u001b[0m\n",
      "\u001b[36m  seeder \u001b[0m\u001b[1;36mFromAppData\u001b[0m\u001b[1;36m(\u001b[0m\u001b[36mdownload\u001b[0m\u001b[36m=\u001b[0m\u001b[3;36mFalse\u001b[0m\u001b[36m, \u001b[0m\u001b[36mpip\u001b[0m\u001b[36m=\u001b[0m\u001b[36mbundle\u001b[0m\u001b[36m, \u001b[0m\u001b[36msetuptools\u001b[0m\u001b[36m=\u001b[0m\u001b[36mbundle\u001b[0m\u001b[36m, \u001b[0m\n",
      "\u001b[36mwheel\u001b[0m\u001b[36m=\u001b[0m\u001b[36mbundle\u001b[0m\u001b[36m, \u001b[0m\u001b[36mvia\u001b[0m\u001b[36m=\u001b[0m\u001b[36mcopy\u001b[0m\u001b[36m, \u001b[0m\u001b[36mapp_data_dir\u001b[0m\u001b[36m=\u001b[0m\u001b[36m/home/codespace/.local/share/\u001b[0m\u001b[36mvirtualenv\u001b[0m\u001b[1;36m)\u001b[0m\n",
      "\u001b[36m    added seed packages: \u001b[0m\u001b[36mpip\u001b[0m\u001b[36m==\u001b[0m\u001b[1;36m24.3\u001b[0m\u001b[36m.\u001b[0m\u001b[1;36m1\u001b[0m\u001b[36m, \u001b[0m\u001b[36msetuptools\u001b[0m\u001b[36m==\u001b[0m\u001b[1;36m75.2\u001b[0m\u001b[36m.\u001b[0m\u001b[1;36m0\u001b[0m\u001b[36m, \u001b[0m\u001b[36mwheel\u001b[0m\u001b[36m==\u001b[0m\u001b[1;36m0.44\u001b[0m\u001b[36m.\u001b[0m\u001b[1;36m0\u001b[0m\n",
      "\u001b[36m  activators \u001b[0m\n",
      "\u001b[36mBashActivator,CShellActivator,FishActivator,NushellActivator,PowerShellActivator\u001b[0m\n",
      "\u001b[36m,PythonActivator\u001b[0m\n",
      "\n",
      "✔ Successfully created virtual environment!\n",
      "\u001b[2K\u001b[32m⠇\u001b[0m Creating virtual environment...\n",
      "\u001b[1A\u001b[2K\u001b[32mVirtualenv location: \u001b[0m\u001b[32m/home/codespace/.local/share/virtualenvs/\u001b[0m\u001b[32m04-deployment-yWDDY4m_\u001b[0m\n",
      "\u001b[1mCreating a Pipfile for this project\u001b[0m\u001b[1;33m...\u001b[0m\n",
      "\u001b[1mPipfile.lock not found, creating\u001b[0m\u001b[1;33m...\u001b[0m\n",
      "Locking\u001b[0m \u001b[33m[packages]\u001b[0m dependencies...\u001b[0m\n",
      "Locking\u001b[0m \u001b[33m[dev-packages]\u001b[0m dependencies...\u001b[0m\n",
      "\u001b[1mUpdated Pipfile.lock (a36a5392bb1e8bbc06bfaa0761e52593cf2d83b486696bf54667ba8da616c839)!\u001b[0m\n",
      "To activate this project's virtualenv, run \u001b[33mpipenv shell\u001b[0m.\n",
      "Alternatively, run a command inside the virtualenv with \u001b[33mpipenv run\u001b[0m.\n",
      "\u001b[1;32mInstalling numpy...\u001b[0m\n",
      "✔ Installation Succeeded\n",
      "\u001b[1;32mInstalling pandas...\u001b[0m\n",
      "✔ Installation Succeeded\n",
      "\u001b[1;32mInstalling scikit-learn==1.5.0...\u001b[0m\n",
      "✔ Installation Succeeded\n",
      "\u001b[1;32mInstalling pyarrow...\u001b[0m\n",
      "✔ Installation Succeeded\n",
      "To activate this project's virtualenv, run \u001b[33mpipenv shell\u001b[0m.\n",
      "Alternatively, run a command inside the virtualenv with \u001b[33mpipenv run\u001b[0m.\n",
      "\u001b[1mInstalling dependencies from Pipfile.lock \u001b[0m\u001b[1;39m(16c839)...\u001b[0m\n",
      "\u001b[32mAll dependencies are now up-to-date!\u001b[0m\n",
      "\u001b[1;32mUpgrading\u001b[0m numpy, pandas, scikit-\u001b[33mlearn\u001b[0m==\u001b[1;36m1.5\u001b[0m.\u001b[1;36m0\u001b[0m, pyarrow in \u001b[39m dependencies.\u001b[0m\n",
      "\u001b[?25lBuilding requirements...\n",
      "\u001b[2KResolving dependencies....\n",
      "\u001b[2K✔ Success! Locking packages...\n",
      "\u001b[2K\u001b[32m⠙\u001b[0m Locking packages...\n",
      "\u001b[1A\u001b[2K\u001b[?25lBuilding requirements...\n",
      "\u001b[2KResolving dependencies....\n",
      "\u001b[2K✔ Success! Locking packages...\n",
      "\u001b[2K\u001b[32m⠸\u001b[0m Locking packages...\n",
      "\u001b[1A\u001b[2KTo activate this project's virtualenv, run \u001b[33mpipenv shell\u001b[0m.\n",
      "Alternatively, run a command inside the virtualenv with \u001b[33mpipenv run\u001b[0m.\n",
      "\u001b[1mInstalling dependencies from Pipfile.lock \u001b[0m\u001b[1;39m(d81d9b)...\u001b[0m\n",
      "\u001b[32mAll dependencies are now up-to-date!\u001b[0m\n",
      "\u001b[1mInstalling dependencies from Pipfile.lock \u001b[0m\u001b[1;39m(d81d9b)...\u001b[0m\n"
     ]
    }
   ],
   "source": [
    "!pipenv install numpy pandas scikit-learn==1.5.0 pyarrow"
   ]
  },
  {
   "cell_type": "markdown",
   "metadata": {},
   "source": [
    "Q5"
   ]
  },
  {
   "cell_type": "code",
   "execution_count": 6,
   "metadata": {},
   "outputs": [
    {
     "name": "stdout",
     "output_type": "stream",
     "text": [
      "Mean predicted duration: 14.29\n"
     ]
    }
   ],
   "source": [
    "%run score_params.py --year 2023 --month 4"
   ]
  },
  {
   "cell_type": "code",
   "execution_count": null,
   "metadata": {},
   "outputs": [],
   "source": []
  }
 ],
 "metadata": {
  "kernelspec": {
   "display_name": "Python 3",
   "language": "python",
   "name": "python3"
  },
  "language_info": {
   "codemirror_mode": {
    "name": "ipython",
    "version": 3
   },
   "file_extension": ".py",
   "mimetype": "text/x-python",
   "name": "python",
   "nbconvert_exporter": "python",
   "pygments_lexer": "ipython3",
   "version": "3.9.12"
  }
 },
 "nbformat": 4,
 "nbformat_minor": 2
}

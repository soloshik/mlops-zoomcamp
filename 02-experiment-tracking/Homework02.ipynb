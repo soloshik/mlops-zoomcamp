{
 "cells": [
  {
   "cell_type": "markdown",
   "id": "31c1ef94",
   "metadata": {},
   "source": [
    "Q2"
   ]
  },
  {
   "cell_type": "code",
   "execution_count": 15,
   "id": "38ee9c37",
   "metadata": {},
   "outputs": [
    {
     "name": "stdout",
     "output_type": "stream",
     "text": [
      "Downloaded green_tripdata_2023-01.parquet\n",
      "Downloaded green_tripdata_2023-02.parquet\n",
      "Downloaded green_tripdata_2023-03.parquet\n",
      "Files in output folder: ['dv.pkl', 'train.pkl', 'test.pkl', 'val.pkl']\n",
      "Number of files in output folder: 4\n"
     ]
    }
   ],
   "source": [
    "import os\n",
    "import requests\n",
    "import pandas as pd\n",
    "\n",
    "# Create a directory to store the data\n",
    "!mkdir -p taxi_data\n",
    "\n",
    "urls = [\n",
    "    \"https://d37ci6vzurychx.cloudfront.net/trip-data/green_tripdata_2023-01.parquet\",\n",
    "    \"https://d37ci6vzurychx.cloudfront.net/trip-data/green_tripdata_2023-02.parquet\",\n",
    "    \"https://d37ci6vzurychx.cloudfront.net/trip-data/green_tripdata_2023-03.parquet\"\n",
    "]\n",
    "\n",
    "# Download the files\n",
    "for url in urls:\n",
    "    filename = url.split('/')[-1]\n",
    "    response = requests.get(url)\n",
    "    with open(f\"taxi_data/{filename}\", \"wb\") as file:\n",
    "        file.write(response.content)\n",
    "    print(f\"Downloaded {filename}\")\n",
    "\n",
    "# Run the preprocessing script\n",
    "!python preprocess_data.py --raw_data_path ./taxi_data --dest_path ./output\n",
    "\n",
    "# Check the contents \n",
    "output_files = os.listdir('./output')\n",
    "print(f\"Files in output folder: {output_files}\")\n",
    "print(f\"Number of files in output folder: {len(output_files)}\")"
   ]
  },
  {
   "cell_type": "markdown",
   "id": "db631d7b",
   "metadata": {},
   "source": [
    "Q3"
   ]
  },
  {
   "cell_type": "code",
   "execution_count": 4,
   "id": "03d61440",
   "metadata": {},
   "outputs": [
    {
     "name": "stdout",
     "output_type": "stream",
     "text": [
      "Requirement already satisfied: mlflow in /home/codespace/anaconda3/lib/python3.9/site-packages (2.17.2)\n",
      "Requirement already satisfied: alembic!=1.10.0,<2 in /home/codespace/anaconda3/lib/python3.9/site-packages (from mlflow) (1.13.3)\n",
      "Requirement already satisfied: docker<8,>=4.0.0 in /home/codespace/anaconda3/lib/python3.9/site-packages (from mlflow) (7.1.0)\n",
      "Requirement already satisfied: matplotlib<4 in /home/codespace/anaconda3/lib/python3.9/site-packages (from mlflow) (3.5.1)\n",
      "Requirement already satisfied: pyarrow<18,>=4.0.0 in /home/codespace/anaconda3/lib/python3.9/site-packages (from mlflow) (17.0.0)\n",
      "Requirement already satisfied: pandas<3 in /home/codespace/anaconda3/lib/python3.9/site-packages (from mlflow) (1.4.2)\n",
      "Requirement already satisfied: Jinja2<4,>=2.11 in /home/codespace/anaconda3/lib/python3.9/site-packages (from mlflow) (2.11.3)\n",
      "Requirement already satisfied: Flask<4 in /home/codespace/anaconda3/lib/python3.9/site-packages (from mlflow) (1.1.2)\n",
      "Requirement already satisfied: sqlalchemy<3,>=1.4.0 in /home/codespace/anaconda3/lib/python3.9/site-packages (from mlflow) (1.4.32)\n",
      "Requirement already satisfied: scikit-learn<2 in /home/codespace/anaconda3/lib/python3.9/site-packages (from mlflow) (1.0.2)\n",
      "Requirement already satisfied: graphene<4 in /home/codespace/anaconda3/lib/python3.9/site-packages (from mlflow) (3.4.1)\n",
      "Requirement already satisfied: numpy<3 in /home/codespace/anaconda3/lib/python3.9/site-packages (from mlflow) (1.21.5)\n",
      "Requirement already satisfied: scipy<2 in /home/codespace/anaconda3/lib/python3.9/site-packages (from mlflow) (1.7.3)\n",
      "Requirement already satisfied: mlflow-skinny==2.17.2 in /home/codespace/anaconda3/lib/python3.9/site-packages (from mlflow) (2.17.2)\n",
      "Requirement already satisfied: markdown<4,>=3.3 in /home/codespace/anaconda3/lib/python3.9/site-packages (from mlflow) (3.3.4)\n",
      "Requirement already satisfied: gunicorn<24 in /home/codespace/anaconda3/lib/python3.9/site-packages (from mlflow) (23.0.0)\n",
      "Requirement already satisfied: opentelemetry-sdk<3,>=1.9.0 in /home/codespace/anaconda3/lib/python3.9/site-packages (from mlflow-skinny==2.17.2->mlflow) (1.27.0)\n",
      "Requirement already satisfied: cachetools<6,>=5.0.0 in /home/codespace/anaconda3/lib/python3.9/site-packages (from mlflow-skinny==2.17.2->mlflow) (5.5.0)\n",
      "Requirement already satisfied: sqlparse<1,>=0.4.0 in /home/codespace/anaconda3/lib/python3.9/site-packages (from mlflow-skinny==2.17.2->mlflow) (0.5.1)\n",
      "Requirement already satisfied: importlib-metadata!=4.7.0,<9,>=3.7.0 in /home/codespace/anaconda3/lib/python3.9/site-packages (from mlflow-skinny==2.17.2->mlflow) (8.4.0)\n",
      "Requirement already satisfied: packaging<25 in /home/codespace/anaconda3/lib/python3.9/site-packages (from mlflow-skinny==2.17.2->mlflow) (21.3)\n",
      "Requirement already satisfied: click<9,>=7.0 in /home/codespace/anaconda3/lib/python3.9/site-packages (from mlflow-skinny==2.17.2->mlflow) (8.0.4)\n",
      "Requirement already satisfied: pyyaml<7,>=5.1 in /home/codespace/anaconda3/lib/python3.9/site-packages (from mlflow-skinny==2.17.2->mlflow) (6.0)\n",
      "Requirement already satisfied: requests<3,>=2.17.3 in /home/codespace/anaconda3/lib/python3.9/site-packages (from mlflow-skinny==2.17.2->mlflow) (2.32.3)\n",
      "Requirement already satisfied: cloudpickle<4 in /home/codespace/anaconda3/lib/python3.9/site-packages (from mlflow-skinny==2.17.2->mlflow) (2.0.0)\n",
      "Requirement already satisfied: protobuf<6,>=3.12.0 in /home/codespace/anaconda3/lib/python3.9/site-packages (from mlflow-skinny==2.17.2->mlflow) (3.19.1)\n",
      "Requirement already satisfied: opentelemetry-api<3,>=1.9.0 in /home/codespace/anaconda3/lib/python3.9/site-packages (from mlflow-skinny==2.17.2->mlflow) (1.27.0)\n",
      "Requirement already satisfied: databricks-sdk<1,>=0.20.0 in /home/codespace/anaconda3/lib/python3.9/site-packages (from mlflow-skinny==2.17.2->mlflow) (0.36.0)\n",
      "Requirement already satisfied: gitpython<4,>=3.1.9 in /home/codespace/anaconda3/lib/python3.9/site-packages (from mlflow-skinny==2.17.2->mlflow) (3.1.43)\n",
      "Requirement already satisfied: Mako in /home/codespace/anaconda3/lib/python3.9/site-packages (from alembic!=1.10.0,<2->mlflow) (1.3.6)\n",
      "Requirement already satisfied: typing-extensions>=4 in /home/codespace/anaconda3/lib/python3.9/site-packages (from alembic!=1.10.0,<2->mlflow) (4.12.2)\n",
      "Requirement already satisfied: google-auth~=2.0 in /home/codespace/anaconda3/lib/python3.9/site-packages (from databricks-sdk<1,>=0.20.0->mlflow-skinny==2.17.2->mlflow) (2.35.0)\n",
      "Requirement already satisfied: urllib3>=1.26.0 in /home/codespace/anaconda3/lib/python3.9/site-packages (from docker<8,>=4.0.0->mlflow) (1.26.9)\n",
      "Requirement already satisfied: Werkzeug>=0.15 in /home/codespace/anaconda3/lib/python3.9/site-packages (from Flask<4->mlflow) (2.0.3)\n",
      "Requirement already satisfied: itsdangerous>=0.24 in /home/codespace/anaconda3/lib/python3.9/site-packages (from Flask<4->mlflow) (2.0.1)\n",
      "Requirement already satisfied: gitdb<5,>=4.0.1 in /home/codespace/anaconda3/lib/python3.9/site-packages (from gitpython<4,>=3.1.9->mlflow-skinny==2.17.2->mlflow) (4.0.11)\n",
      "Requirement already satisfied: smmap<6,>=3.0.1 in /home/codespace/anaconda3/lib/python3.9/site-packages (from gitdb<5,>=4.0.1->gitpython<4,>=3.1.9->mlflow-skinny==2.17.2->mlflow) (5.0.1)\n",
      "Requirement already satisfied: rsa<5,>=3.1.4 in /home/codespace/anaconda3/lib/python3.9/site-packages (from google-auth~=2.0->databricks-sdk<1,>=0.20.0->mlflow-skinny==2.17.2->mlflow) (4.7.2)\n",
      "Requirement already satisfied: pyasn1-modules>=0.2.1 in /home/codespace/anaconda3/lib/python3.9/site-packages (from google-auth~=2.0->databricks-sdk<1,>=0.20.0->mlflow-skinny==2.17.2->mlflow) (0.2.8)\n",
      "Requirement already satisfied: graphql-relay<3.3,>=3.1 in /home/codespace/anaconda3/lib/python3.9/site-packages (from graphene<4->mlflow) (3.2.0)\n",
      "Requirement already satisfied: graphql-core<3.3,>=3.1 in /home/codespace/anaconda3/lib/python3.9/site-packages (from graphene<4->mlflow) (3.2.5)\n",
      "Requirement already satisfied: python-dateutil<3,>=2.7.0 in /home/codespace/anaconda3/lib/python3.9/site-packages (from graphene<4->mlflow) (2.8.2)\n",
      "Requirement already satisfied: zipp>=0.5 in /home/codespace/anaconda3/lib/python3.9/site-packages (from importlib-metadata!=4.7.0,<9,>=3.7.0->mlflow-skinny==2.17.2->mlflow) (3.7.0)\n",
      "Requirement already satisfied: MarkupSafe>=0.23 in /home/codespace/anaconda3/lib/python3.9/site-packages (from Jinja2<4,>=2.11->mlflow) (2.0.1)\n",
      "Requirement already satisfied: fonttools>=4.22.0 in /home/codespace/anaconda3/lib/python3.9/site-packages (from matplotlib<4->mlflow) (4.25.0)\n",
      "Requirement already satisfied: pillow>=6.2.0 in /home/codespace/anaconda3/lib/python3.9/site-packages (from matplotlib<4->mlflow) (9.0.1)\n",
      "Requirement already satisfied: pyparsing>=2.2.1 in /home/codespace/anaconda3/lib/python3.9/site-packages (from matplotlib<4->mlflow) (3.0.4)\n",
      "Requirement already satisfied: kiwisolver>=1.0.1 in /home/codespace/anaconda3/lib/python3.9/site-packages (from matplotlib<4->mlflow) (1.3.2)\n",
      "Requirement already satisfied: cycler>=0.10 in /home/codespace/anaconda3/lib/python3.9/site-packages (from matplotlib<4->mlflow) (0.11.0)\n",
      "Requirement already satisfied: deprecated>=1.2.6 in /home/codespace/anaconda3/lib/python3.9/site-packages (from opentelemetry-api<3,>=1.9.0->mlflow-skinny==2.17.2->mlflow) (1.2.14)\n",
      "Requirement already satisfied: wrapt<2,>=1.10 in /home/codespace/anaconda3/lib/python3.9/site-packages (from deprecated>=1.2.6->opentelemetry-api<3,>=1.9.0->mlflow-skinny==2.17.2->mlflow) (1.12.1)\n",
      "Requirement already satisfied: opentelemetry-semantic-conventions==0.48b0 in /home/codespace/anaconda3/lib/python3.9/site-packages (from opentelemetry-sdk<3,>=1.9.0->mlflow-skinny==2.17.2->mlflow) (0.48b0)\n",
      "Requirement already satisfied: pytz>=2020.1 in /home/codespace/anaconda3/lib/python3.9/site-packages (from pandas<3->mlflow) (2021.3)\n",
      "Requirement already satisfied: pyasn1<0.5.0,>=0.4.6 in /home/codespace/anaconda3/lib/python3.9/site-packages (from pyasn1-modules>=0.2.1->google-auth~=2.0->databricks-sdk<1,>=0.20.0->mlflow-skinny==2.17.2->mlflow) (0.4.8)\n",
      "Requirement already satisfied: six>=1.5 in /home/codespace/anaconda3/lib/python3.9/site-packages (from python-dateutil<3,>=2.7.0->graphene<4->mlflow) (1.16.0)\n",
      "Requirement already satisfied: certifi>=2017.4.17 in /home/codespace/anaconda3/lib/python3.9/site-packages (from requests<3,>=2.17.3->mlflow-skinny==2.17.2->mlflow) (2021.10.8)\n",
      "Requirement already satisfied: idna<4,>=2.5 in /home/codespace/anaconda3/lib/python3.9/site-packages (from requests<3,>=2.17.3->mlflow-skinny==2.17.2->mlflow) (3.3)\n",
      "Requirement already satisfied: charset-normalizer<4,>=2 in /home/codespace/anaconda3/lib/python3.9/site-packages (from requests<3,>=2.17.3->mlflow-skinny==2.17.2->mlflow) (2.0.4)\n"
     ]
    },
    {
     "name": "stdout",
     "output_type": "stream",
     "text": [
      "Requirement already satisfied: joblib>=0.11 in /home/codespace/anaconda3/lib/python3.9/site-packages (from scikit-learn<2->mlflow) (1.1.0)\n",
      "Requirement already satisfied: threadpoolctl>=2.0.0 in /home/codespace/anaconda3/lib/python3.9/site-packages (from scikit-learn<2->mlflow) (2.2.0)\n",
      "Requirement already satisfied: greenlet!=0.4.17 in /home/codespace/anaconda3/lib/python3.9/site-packages (from sqlalchemy<3,>=1.4.0->mlflow) (1.1.1)\n"
     ]
    }
   ],
   "source": [
    "!pip install mlflow"
   ]
  },
  {
   "cell_type": "code",
   "execution_count": 18,
   "id": "8149adb4",
   "metadata": {},
   "outputs": [
    {
     "name": "stdout",
     "output_type": "stream",
     "text": [
      "2024/11/02 17:46:59 INFO mlflow.tracking.fluent: Autologging successfully enabled for sklearn.\n",
      "2024/11/02 17:47:00 WARNING mlflow.sklearn: Failed to log training dataset information to MLflow Tracking. Reason: 'numpy.ndarray' object has no attribute 'toarray'\n",
      "2024/11/02 17:47:13 WARNING mlflow.utils.environment: Encountered an unexpected error while inferring pip requirements (model URI: /tmp/tmplpsw5vh8/model/model.pkl, flavor: sklearn). Fall back to return ['scikit-learn==1.0.2', 'cloudpickle==2.0.0']. Set logging level to DEBUG to see the full traceback. \n",
      "Experiment ID: 0, Name: Default\n",
      "The value of min_samples_split is: 2\n",
      "[2024-11-02 17:47:16 +0000] [8405] [INFO] Starting gunicorn 23.0.0\n",
      "[2024-11-02 17:47:16 +0000] [8405] [INFO] Listening at: http://127.0.0.1:5000 (8405)\n",
      "[2024-11-02 17:47:16 +0000] [8405] [INFO] Using worker: sync\n",
      "[2024-11-02 17:47:16 +0000] [8407] [INFO] Booting worker with pid: 8407\n",
      "[2024-11-02 17:47:16 +0000] [8419] [INFO] Booting worker with pid: 8419\n",
      "[2024-11-02 17:47:16 +0000] [8426] [INFO] Booting worker with pid: 8426\n",
      "[2024-11-02 17:47:16 +0000] [8427] [INFO] Booting worker with pid: 8427\n",
      "^C\n",
      "[2024-11-02 17:57:47 +0000] [8405] [INFO] Handling signal: int\n",
      "[2024-11-02 17:57:47 +0000] [8427] [INFO] Worker exiting (pid: 8427)\n",
      "[2024-11-02 17:57:47 +0000] [8426] [INFO] Worker exiting (pid: 8426)\n",
      "[2024-11-02 17:57:47 +0000] [8419] [INFO] Worker exiting (pid: 8419)\n",
      "[2024-11-02 17:57:47 +0000] [8407] [INFO] Worker exiting (pid: 8407)\n"
     ]
    }
   ],
   "source": [
    "!python train.py\n",
    "\n",
    "import mlflow\n",
    "from mlflow.tracking import MlflowClient\n",
    "\n",
    "client = MlflowClient()\n",
    "\n",
    "# Get experiments\n",
    "experiments = client.search_experiments()\n",
    "\n",
    "for exp in experiments:\n",
    "    print(f\"Experiment ID: {exp.experiment_id}, Name: {exp.name}\")\n",
    "    \n",
    "    # Get runs for this experiment\n",
    "    runs = client.search_runs(experiment_ids=[exp.experiment_id])\n",
    "    \n",
    "    if runs:\n",
    "        latest_run = runs[0]\n",
    "        if 'min_samples_split' in latest_run.data.params:\n",
    "            min_samples_split = latest_run.data.params['min_samples_split']\n",
    "            print(f\"The value of min_samples_split is: {min_samples_split}\")\n",
    "            break\n",
    "    else:\n",
    "        print(\"No runs\")\n",
    "\n",
    "!mlflow ui"
   ]
  },
  {
   "cell_type": "markdown",
   "id": "97378efb",
   "metadata": {},
   "source": [
    "Q5"
   ]
  },
  {
   "cell_type": "code",
   "execution_count": 5,
   "id": "aa595adf",
   "metadata": {},
   "outputs": [
    {
     "name": "stdout",
     "output_type": "stream",
     "text": [
      "Requirement already satisfied: numpy in /home/codespace/anaconda3/lib/python3.9/site-packages (1.21.5)\n",
      "Requirement already satisfied: scikit-learn in /home/codespace/anaconda3/lib/python3.9/site-packages (1.0.2)\n",
      "Collecting hyperopt\n",
      "  Downloading hyperopt-0.2.7-py2.py3-none-any.whl (1.6 MB)\n",
      "\u001b[K     |████████████████████████████████| 1.6 MB 16.6 MB/s eta 0:00:01\n",
      "\u001b[?25hRequirement already satisfied: mlflow in /home/codespace/anaconda3/lib/python3.9/site-packages (2.17.2)\n",
      "Requirement already satisfied: click in /home/codespace/anaconda3/lib/python3.9/site-packages (8.0.4)\n",
      "Requirement already satisfied: joblib>=0.11 in /home/codespace/anaconda3/lib/python3.9/site-packages (from scikit-learn) (1.1.0)\n",
      "Requirement already satisfied: scipy>=1.1.0 in /home/codespace/anaconda3/lib/python3.9/site-packages (from scikit-learn) (1.7.3)\n",
      "Requirement already satisfied: threadpoolctl>=2.0.0 in /home/codespace/anaconda3/lib/python3.9/site-packages (from scikit-learn) (2.2.0)\n",
      "Collecting py4j\n",
      "  Downloading py4j-0.10.9.7-py2.py3-none-any.whl (200 kB)\n",
      "\u001b[K     |████████████████████████████████| 200 kB 80.0 MB/s eta 0:00:01\n",
      "\u001b[?25hRequirement already satisfied: tqdm in /home/codespace/anaconda3/lib/python3.9/site-packages (from hyperopt) (4.64.0)\n",
      "Requirement already satisfied: cloudpickle in /home/codespace/anaconda3/lib/python3.9/site-packages (from hyperopt) (2.0.0)\n",
      "Requirement already satisfied: future in /home/codespace/anaconda3/lib/python3.9/site-packages (from hyperopt) (0.18.2)\n",
      "Requirement already satisfied: networkx>=2.2 in /home/codespace/anaconda3/lib/python3.9/site-packages (from hyperopt) (2.7.1)\n",
      "Requirement already satisfied: six in /home/codespace/anaconda3/lib/python3.9/site-packages (from hyperopt) (1.16.0)\n",
      "Requirement already satisfied: docker<8,>=4.0.0 in /home/codespace/anaconda3/lib/python3.9/site-packages (from mlflow) (7.1.0)\n",
      "Requirement already satisfied: markdown<4,>=3.3 in /home/codespace/anaconda3/lib/python3.9/site-packages (from mlflow) (3.3.4)\n",
      "Requirement already satisfied: pandas<3 in /home/codespace/anaconda3/lib/python3.9/site-packages (from mlflow) (1.4.2)\n",
      "Requirement already satisfied: Jinja2<4,>=2.11 in /home/codespace/anaconda3/lib/python3.9/site-packages (from mlflow) (2.11.3)\n",
      "Requirement already satisfied: mlflow-skinny==2.17.2 in /home/codespace/anaconda3/lib/python3.9/site-packages (from mlflow) (2.17.2)\n",
      "Requirement already satisfied: matplotlib<4 in /home/codespace/anaconda3/lib/python3.9/site-packages (from mlflow) (3.5.1)\n",
      "Requirement already satisfied: Flask<4 in /home/codespace/anaconda3/lib/python3.9/site-packages (from mlflow) (1.1.2)\n",
      "Requirement already satisfied: pyarrow<18,>=4.0.0 in /home/codespace/anaconda3/lib/python3.9/site-packages (from mlflow) (17.0.0)\n",
      "Requirement already satisfied: gunicorn<24 in /home/codespace/anaconda3/lib/python3.9/site-packages (from mlflow) (23.0.0)\n",
      "Requirement already satisfied: alembic!=1.10.0,<2 in /home/codespace/anaconda3/lib/python3.9/site-packages (from mlflow) (1.13.3)\n",
      "Requirement already satisfied: sqlalchemy<3,>=1.4.0 in /home/codespace/anaconda3/lib/python3.9/site-packages (from mlflow) (1.4.32)\n",
      "Requirement already satisfied: graphene<4 in /home/codespace/anaconda3/lib/python3.9/site-packages (from mlflow) (3.4.1)\n",
      "Requirement already satisfied: sqlparse<1,>=0.4.0 in /home/codespace/anaconda3/lib/python3.9/site-packages (from mlflow-skinny==2.17.2->mlflow) (0.5.1)\n",
      "Requirement already satisfied: opentelemetry-sdk<3,>=1.9.0 in /home/codespace/anaconda3/lib/python3.9/site-packages (from mlflow-skinny==2.17.2->mlflow) (1.27.0)\n",
      "Requirement already satisfied: gitpython<4,>=3.1.9 in /home/codespace/anaconda3/lib/python3.9/site-packages (from mlflow-skinny==2.17.2->mlflow) (3.1.43)\n",
      "Requirement already satisfied: protobuf<6,>=3.12.0 in /home/codespace/anaconda3/lib/python3.9/site-packages (from mlflow-skinny==2.17.2->mlflow) (3.19.1)\n",
      "Requirement already satisfied: opentelemetry-api<3,>=1.9.0 in /home/codespace/anaconda3/lib/python3.9/site-packages (from mlflow-skinny==2.17.2->mlflow) (1.27.0)\n",
      "Requirement already satisfied: requests<3,>=2.17.3 in /home/codespace/anaconda3/lib/python3.9/site-packages (from mlflow-skinny==2.17.2->mlflow) (2.32.3)\n",
      "Requirement already satisfied: packaging<25 in /home/codespace/anaconda3/lib/python3.9/site-packages (from mlflow-skinny==2.17.2->mlflow) (21.3)\n",
      "Requirement already satisfied: cachetools<6,>=5.0.0 in /home/codespace/anaconda3/lib/python3.9/site-packages (from mlflow-skinny==2.17.2->mlflow) (5.5.0)\n",
      "Requirement already satisfied: pyyaml<7,>=5.1 in /home/codespace/anaconda3/lib/python3.9/site-packages (from mlflow-skinny==2.17.2->mlflow) (6.0)\n",
      "Requirement already satisfied: importlib-metadata!=4.7.0,<9,>=3.7.0 in /home/codespace/anaconda3/lib/python3.9/site-packages (from mlflow-skinny==2.17.2->mlflow) (8.4.0)\n",
      "Requirement already satisfied: databricks-sdk<1,>=0.20.0 in /home/codespace/anaconda3/lib/python3.9/site-packages (from mlflow-skinny==2.17.2->mlflow) (0.36.0)\n",
      "Requirement already satisfied: typing-extensions>=4 in /home/codespace/anaconda3/lib/python3.9/site-packages (from alembic!=1.10.0,<2->mlflow) (4.12.2)\n",
      "Requirement already satisfied: Mako in /home/codespace/anaconda3/lib/python3.9/site-packages (from alembic!=1.10.0,<2->mlflow) (1.3.6)\n",
      "Requirement already satisfied: google-auth~=2.0 in /home/codespace/anaconda3/lib/python3.9/site-packages (from databricks-sdk<1,>=0.20.0->mlflow-skinny==2.17.2->mlflow) (2.35.0)\n",
      "Requirement already satisfied: urllib3>=1.26.0 in /home/codespace/anaconda3/lib/python3.9/site-packages (from docker<8,>=4.0.0->mlflow) (1.26.9)\n",
      "Requirement already satisfied: itsdangerous>=0.24 in /home/codespace/anaconda3/lib/python3.9/site-packages (from Flask<4->mlflow) (2.0.1)\n",
      "Requirement already satisfied: Werkzeug>=0.15 in /home/codespace/anaconda3/lib/python3.9/site-packages (from Flask<4->mlflow) (2.0.3)\n",
      "Requirement already satisfied: gitdb<5,>=4.0.1 in /home/codespace/anaconda3/lib/python3.9/site-packages (from gitpython<4,>=3.1.9->mlflow-skinny==2.17.2->mlflow) (4.0.11)\n",
      "Requirement already satisfied: smmap<6,>=3.0.1 in /home/codespace/anaconda3/lib/python3.9/site-packages (from gitdb<5,>=4.0.1->gitpython<4,>=3.1.9->mlflow-skinny==2.17.2->mlflow) (5.0.1)\n",
      "Requirement already satisfied: pyasn1-modules>=0.2.1 in /home/codespace/anaconda3/lib/python3.9/site-packages (from google-auth~=2.0->databricks-sdk<1,>=0.20.0->mlflow-skinny==2.17.2->mlflow) (0.2.8)\n",
      "Requirement already satisfied: rsa<5,>=3.1.4 in /home/codespace/anaconda3/lib/python3.9/site-packages (from google-auth~=2.0->databricks-sdk<1,>=0.20.0->mlflow-skinny==2.17.2->mlflow) (4.7.2)\n",
      "Requirement already satisfied: graphql-core<3.3,>=3.1 in /home/codespace/anaconda3/lib/python3.9/site-packages (from graphene<4->mlflow) (3.2.5)\n",
      "Requirement already satisfied: graphql-relay<3.3,>=3.1 in /home/codespace/anaconda3/lib/python3.9/site-packages (from graphene<4->mlflow) (3.2.0)\n",
      "Requirement already satisfied: python-dateutil<3,>=2.7.0 in /home/codespace/anaconda3/lib/python3.9/site-packages (from graphene<4->mlflow) (2.8.2)\n",
      "Requirement already satisfied: zipp>=0.5 in /home/codespace/anaconda3/lib/python3.9/site-packages (from importlib-metadata!=4.7.0,<9,>=3.7.0->mlflow-skinny==2.17.2->mlflow) (3.7.0)\n",
      "Requirement already satisfied: MarkupSafe>=0.23 in /home/codespace/anaconda3/lib/python3.9/site-packages (from Jinja2<4,>=2.11->mlflow) (2.0.1)\n",
      "Requirement already satisfied: pyparsing>=2.2.1 in /home/codespace/anaconda3/lib/python3.9/site-packages (from matplotlib<4->mlflow) (3.0.4)\n",
      "Requirement already satisfied: fonttools>=4.22.0 in /home/codespace/anaconda3/lib/python3.9/site-packages (from matplotlib<4->mlflow) (4.25.0)\n",
      "Requirement already satisfied: pillow>=6.2.0 in /home/codespace/anaconda3/lib/python3.9/site-packages (from matplotlib<4->mlflow) (9.0.1)\n",
      "Requirement already satisfied: kiwisolver>=1.0.1 in /home/codespace/anaconda3/lib/python3.9/site-packages (from matplotlib<4->mlflow) (1.3.2)\n",
      "Requirement already satisfied: cycler>=0.10 in /home/codespace/anaconda3/lib/python3.9/site-packages (from matplotlib<4->mlflow) (0.11.0)\n",
      "Requirement already satisfied: deprecated>=1.2.6 in /home/codespace/anaconda3/lib/python3.9/site-packages (from opentelemetry-api<3,>=1.9.0->mlflow-skinny==2.17.2->mlflow) (1.2.14)\n",
      "Requirement already satisfied: wrapt<2,>=1.10 in /home/codespace/anaconda3/lib/python3.9/site-packages (from deprecated>=1.2.6->opentelemetry-api<3,>=1.9.0->mlflow-skinny==2.17.2->mlflow) (1.12.1)\n",
      "Requirement already satisfied: opentelemetry-semantic-conventions==0.48b0 in /home/codespace/anaconda3/lib/python3.9/site-packages (from opentelemetry-sdk<3,>=1.9.0->mlflow-skinny==2.17.2->mlflow) (0.48b0)\n"
     ]
    },
    {
     "name": "stdout",
     "output_type": "stream",
     "text": [
      "Requirement already satisfied: pytz>=2020.1 in /home/codespace/anaconda3/lib/python3.9/site-packages (from pandas<3->mlflow) (2021.3)\n",
      "Requirement already satisfied: pyasn1<0.5.0,>=0.4.6 in /home/codespace/anaconda3/lib/python3.9/site-packages (from pyasn1-modules>=0.2.1->google-auth~=2.0->databricks-sdk<1,>=0.20.0->mlflow-skinny==2.17.2->mlflow) (0.4.8)\n",
      "Requirement already satisfied: certifi>=2017.4.17 in /home/codespace/anaconda3/lib/python3.9/site-packages (from requests<3,>=2.17.3->mlflow-skinny==2.17.2->mlflow) (2021.10.8)\n",
      "Requirement already satisfied: charset-normalizer<4,>=2 in /home/codespace/anaconda3/lib/python3.9/site-packages (from requests<3,>=2.17.3->mlflow-skinny==2.17.2->mlflow) (2.0.4)\n",
      "Requirement already satisfied: idna<4,>=2.5 in /home/codespace/anaconda3/lib/python3.9/site-packages (from requests<3,>=2.17.3->mlflow-skinny==2.17.2->mlflow) (3.3)\n",
      "Requirement already satisfied: greenlet!=0.4.17 in /home/codespace/anaconda3/lib/python3.9/site-packages (from sqlalchemy<3,>=1.4.0->mlflow) (1.1.1)\n",
      "Installing collected packages: py4j, hyperopt\n",
      "Successfully installed hyperopt-0.2.7 py4j-0.10.9.7\n",
      "Note: you may need to restart the kernel to use updated packages.\n"
     ]
    }
   ],
   "source": [
    "pip install numpy scikit-learn hyperopt mlflow click"
   ]
  },
  {
   "cell_type": "code",
   "execution_count": 12,
   "id": "3d1cb78d",
   "metadata": {},
   "outputs": [
    {
     "name": "stdout",
     "output_type": "stream",
     "text": [
      "MLflow tracking URI: file:///workspaces/mlops-zoomcamp/02-experiment-tracking/mlruns\n",
      "RMSE: 5.370086069268862                                                         \n",
      "RMSE: 6.336044899923993                                                         \n",
      "RMSE: 5.617650247001616                                                         \n",
      "RMSE: 5.357490752366866                                                         \n",
      "RMSE: 5.4431408201543805                                                        \n",
      "RMSE: 5.354695072530291                                                         \n",
      "RMSE: 5.363707729018604                                                         \n",
      "RMSE: 5.4646431328121015                                                        \n",
      "RMSE: 5.410518705423984                                                         \n",
      "RMSE: 5.3633599989832135                                                        \n",
      "RMSE: 5.335419588556921                                                         \n",
      "RMSE: 5.484068016681342                                                         \n",
      "RMSE: 5.538069949003994                                                         \n",
      "RMSE: 5.37159585587677                                                          \n",
      "RMSE: 5.355041749098929                                                         \n",
      "100%|██████████| 15/15 [00:55<00:00,  3.71s/trial, best loss: 5.335419588556921]\n"
     ]
    }
   ],
   "source": [
    "!python hpo.py"
   ]
  },
  {
   "cell_type": "code",
   "execution_count": null,
   "id": "917be389",
   "metadata": {},
   "outputs": [],
   "source": []
  },
  {
   "cell_type": "code",
   "execution_count": null,
   "id": "ee9fa708",
   "metadata": {},
   "outputs": [],
   "source": []
  }
 ],
 "metadata": {
  "kernelspec": {
   "display_name": "Python 3 (ipykernel)",
   "language": "python",
   "name": "python3"
  },
  "language_info": {
   "codemirror_mode": {
    "name": "ipython",
    "version": 3
   },
   "file_extension": ".py",
   "mimetype": "text/x-python",
   "name": "python",
   "nbconvert_exporter": "python",
   "pygments_lexer": "ipython3",
   "version": "3.9.12"
  }
 },
 "nbformat": 4,
 "nbformat_minor": 5
}

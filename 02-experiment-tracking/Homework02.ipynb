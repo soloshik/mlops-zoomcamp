{
 "cells": [
  {
   "cell_type": "markdown",
   "id": "31c1ef94",
   "metadata": {},
   "source": [
    "Q2"
   ]
  },
  {
   "cell_type": "code",
   "execution_count": 15,
   "id": "38ee9c37",
   "metadata": {},
   "outputs": [
    {
     "name": "stdout",
     "output_type": "stream",
     "text": [
      "Downloaded green_tripdata_2023-01.parquet\n",
      "Downloaded green_tripdata_2023-02.parquet\n",
      "Downloaded green_tripdata_2023-03.parquet\n",
      "Files in output folder: ['dv.pkl', 'train.pkl', 'test.pkl', 'val.pkl']\n",
      "Number of files in output folder: 4\n"
     ]
    }
   ],
   "source": [
    "import os\n",
    "import requests\n",
    "import pandas as pd\n",
    "\n",
    "# Create a directory to store the data\n",
    "!mkdir -p taxi_data\n",
    "\n",
    "urls = [\n",
    "    \"https://d37ci6vzurychx.cloudfront.net/trip-data/green_tripdata_2023-01.parquet\",\n",
    "    \"https://d37ci6vzurychx.cloudfront.net/trip-data/green_tripdata_2023-02.parquet\",\n",
    "    \"https://d37ci6vzurychx.cloudfront.net/trip-data/green_tripdata_2023-03.parquet\"\n",
    "]\n",
    "\n",
    "# Download the files\n",
    "for url in urls:\n",
    "    filename = url.split('/')[-1]\n",
    "    response = requests.get(url)\n",
    "    with open(f\"taxi_data/{filename}\", \"wb\") as file:\n",
    "        file.write(response.content)\n",
    "    print(f\"Downloaded {filename}\")\n",
    "\n",
    "# Run the preprocessing script\n",
    "!python preprocess_data.py --raw_data_path ./taxi_data --dest_path ./output\n",
    "\n",
    "# Check the contents \n",
    "output_files = os.listdir('./output')\n",
    "print(f\"Files in output folder: {output_files}\")\n",
    "print(f\"Number of files in output folder: {len(output_files)}\")"
   ]
  },
  {
   "cell_type": "markdown",
   "id": "db631d7b",
   "metadata": {},
   "source": [
    "Q3"
   ]
  },
  {
   "cell_type": "code",
   "execution_count": 4,
   "id": "03d61440",
   "metadata": {},
   "outputs": [
    {
     "name": "stdout",
     "output_type": "stream",
     "text": [
      "Requirement already satisfied: mlflow in /home/codespace/anaconda3/lib/python3.9/site-packages (2.17.2)\n",
      "Requirement already satisfied: alembic!=1.10.0,<2 in /home/codespace/anaconda3/lib/python3.9/site-packages (from mlflow) (1.13.3)\n",
      "Requirement already satisfied: docker<8,>=4.0.0 in /home/codespace/anaconda3/lib/python3.9/site-packages (from mlflow) (7.1.0)\n",
      "Requirement already satisfied: matplotlib<4 in /home/codespace/anaconda3/lib/python3.9/site-packages (from mlflow) (3.5.1)\n",
      "Requirement already satisfied: pyarrow<18,>=4.0.0 in /home/codespace/anaconda3/lib/python3.9/site-packages (from mlflow) (17.0.0)\n",
      "Requirement already satisfied: pandas<3 in /home/codespace/anaconda3/lib/python3.9/site-packages (from mlflow) (1.4.2)\n",
      "Requirement already satisfied: Jinja2<4,>=2.11 in /home/codespace/anaconda3/lib/python3.9/site-packages (from mlflow) (2.11.3)\n",
      "Requirement already satisfied: Flask<4 in /home/codespace/anaconda3/lib/python3.9/site-packages (from mlflow) (1.1.2)\n",
      "Requirement already satisfied: sqlalchemy<3,>=1.4.0 in /home/codespace/anaconda3/lib/python3.9/site-packages (from mlflow) (1.4.32)\n",
      "Requirement already satisfied: scikit-learn<2 in /home/codespace/anaconda3/lib/python3.9/site-packages (from mlflow) (1.0.2)\n",
      "Requirement already satisfied: graphene<4 in /home/codespace/anaconda3/lib/python3.9/site-packages (from mlflow) (3.4.1)\n",
      "Requirement already satisfied: numpy<3 in /home/codespace/anaconda3/lib/python3.9/site-packages (from mlflow) (1.21.5)\n",
      "Requirement already satisfied: scipy<2 in /home/codespace/anaconda3/lib/python3.9/site-packages (from mlflow) (1.7.3)\n",
      "Requirement already satisfied: mlflow-skinny==2.17.2 in /home/codespace/anaconda3/lib/python3.9/site-packages (from mlflow) (2.17.2)\n",
      "Requirement already satisfied: markdown<4,>=3.3 in /home/codespace/anaconda3/lib/python3.9/site-packages (from mlflow) (3.3.4)\n",
      "Requirement already satisfied: gunicorn<24 in /home/codespace/anaconda3/lib/python3.9/site-packages (from mlflow) (23.0.0)\n",
      "Requirement already satisfied: opentelemetry-sdk<3,>=1.9.0 in /home/codespace/anaconda3/lib/python3.9/site-packages (from mlflow-skinny==2.17.2->mlflow) (1.27.0)\n",
      "Requirement already satisfied: cachetools<6,>=5.0.0 in /home/codespace/anaconda3/lib/python3.9/site-packages (from mlflow-skinny==2.17.2->mlflow) (5.5.0)\n",
      "Requirement already satisfied: sqlparse<1,>=0.4.0 in /home/codespace/anaconda3/lib/python3.9/site-packages (from mlflow-skinny==2.17.2->mlflow) (0.5.1)\n",
      "Requirement already satisfied: importlib-metadata!=4.7.0,<9,>=3.7.0 in /home/codespace/anaconda3/lib/python3.9/site-packages (from mlflow-skinny==2.17.2->mlflow) (8.4.0)\n",
      "Requirement already satisfied: packaging<25 in /home/codespace/anaconda3/lib/python3.9/site-packages (from mlflow-skinny==2.17.2->mlflow) (21.3)\n",
      "Requirement already satisfied: click<9,>=7.0 in /home/codespace/anaconda3/lib/python3.9/site-packages (from mlflow-skinny==2.17.2->mlflow) (8.0.4)\n",
      "Requirement already satisfied: pyyaml<7,>=5.1 in /home/codespace/anaconda3/lib/python3.9/site-packages (from mlflow-skinny==2.17.2->mlflow) (6.0)\n",
      "Requirement already satisfied: requests<3,>=2.17.3 in /home/codespace/anaconda3/lib/python3.9/site-packages (from mlflow-skinny==2.17.2->mlflow) (2.32.3)\n",
      "Requirement already satisfied: cloudpickle<4 in /home/codespace/anaconda3/lib/python3.9/site-packages (from mlflow-skinny==2.17.2->mlflow) (2.0.0)\n",
      "Requirement already satisfied: protobuf<6,>=3.12.0 in /home/codespace/anaconda3/lib/python3.9/site-packages (from mlflow-skinny==2.17.2->mlflow) (3.19.1)\n",
      "Requirement already satisfied: opentelemetry-api<3,>=1.9.0 in /home/codespace/anaconda3/lib/python3.9/site-packages (from mlflow-skinny==2.17.2->mlflow) (1.27.0)\n",
      "Requirement already satisfied: databricks-sdk<1,>=0.20.0 in /home/codespace/anaconda3/lib/python3.9/site-packages (from mlflow-skinny==2.17.2->mlflow) (0.36.0)\n",
      "Requirement already satisfied: gitpython<4,>=3.1.9 in /home/codespace/anaconda3/lib/python3.9/site-packages (from mlflow-skinny==2.17.2->mlflow) (3.1.43)\n",
      "Requirement already satisfied: Mako in /home/codespace/anaconda3/lib/python3.9/site-packages (from alembic!=1.10.0,<2->mlflow) (1.3.6)\n",
      "Requirement already satisfied: typing-extensions>=4 in /home/codespace/anaconda3/lib/python3.9/site-packages (from alembic!=1.10.0,<2->mlflow) (4.12.2)\n",
      "Requirement already satisfied: google-auth~=2.0 in /home/codespace/anaconda3/lib/python3.9/site-packages (from databricks-sdk<1,>=0.20.0->mlflow-skinny==2.17.2->mlflow) (2.35.0)\n",
      "Requirement already satisfied: urllib3>=1.26.0 in /home/codespace/anaconda3/lib/python3.9/site-packages (from docker<8,>=4.0.0->mlflow) (1.26.9)\n",
      "Requirement already satisfied: Werkzeug>=0.15 in /home/codespace/anaconda3/lib/python3.9/site-packages (from Flask<4->mlflow) (2.0.3)\n",
      "Requirement already satisfied: itsdangerous>=0.24 in /home/codespace/anaconda3/lib/python3.9/site-packages (from Flask<4->mlflow) (2.0.1)\n",
      "Requirement already satisfied: gitdb<5,>=4.0.1 in /home/codespace/anaconda3/lib/python3.9/site-packages (from gitpython<4,>=3.1.9->mlflow-skinny==2.17.2->mlflow) (4.0.11)\n",
      "Requirement already satisfied: smmap<6,>=3.0.1 in /home/codespace/anaconda3/lib/python3.9/site-packages (from gitdb<5,>=4.0.1->gitpython<4,>=3.1.9->mlflow-skinny==2.17.2->mlflow) (5.0.1)\n",
      "Requirement already satisfied: rsa<5,>=3.1.4 in /home/codespace/anaconda3/lib/python3.9/site-packages (from google-auth~=2.0->databricks-sdk<1,>=0.20.0->mlflow-skinny==2.17.2->mlflow) (4.7.2)\n",
      "Requirement already satisfied: pyasn1-modules>=0.2.1 in /home/codespace/anaconda3/lib/python3.9/site-packages (from google-auth~=2.0->databricks-sdk<1,>=0.20.0->mlflow-skinny==2.17.2->mlflow) (0.2.8)\n",
      "Requirement already satisfied: graphql-relay<3.3,>=3.1 in /home/codespace/anaconda3/lib/python3.9/site-packages (from graphene<4->mlflow) (3.2.0)\n",
      "Requirement already satisfied: graphql-core<3.3,>=3.1 in /home/codespace/anaconda3/lib/python3.9/site-packages (from graphene<4->mlflow) (3.2.5)\n",
      "Requirement already satisfied: python-dateutil<3,>=2.7.0 in /home/codespace/anaconda3/lib/python3.9/site-packages (from graphene<4->mlflow) (2.8.2)\n",
      "Requirement already satisfied: zipp>=0.5 in /home/codespace/anaconda3/lib/python3.9/site-packages (from importlib-metadata!=4.7.0,<9,>=3.7.0->mlflow-skinny==2.17.2->mlflow) (3.7.0)\n",
      "Requirement already satisfied: MarkupSafe>=0.23 in /home/codespace/anaconda3/lib/python3.9/site-packages (from Jinja2<4,>=2.11->mlflow) (2.0.1)\n",
      "Requirement already satisfied: fonttools>=4.22.0 in /home/codespace/anaconda3/lib/python3.9/site-packages (from matplotlib<4->mlflow) (4.25.0)\n",
      "Requirement already satisfied: pillow>=6.2.0 in /home/codespace/anaconda3/lib/python3.9/site-packages (from matplotlib<4->mlflow) (9.0.1)\n",
      "Requirement already satisfied: pyparsing>=2.2.1 in /home/codespace/anaconda3/lib/python3.9/site-packages (from matplotlib<4->mlflow) (3.0.4)\n",
      "Requirement already satisfied: kiwisolver>=1.0.1 in /home/codespace/anaconda3/lib/python3.9/site-packages (from matplotlib<4->mlflow) (1.3.2)\n",
      "Requirement already satisfied: cycler>=0.10 in /home/codespace/anaconda3/lib/python3.9/site-packages (from matplotlib<4->mlflow) (0.11.0)\n",
      "Requirement already satisfied: deprecated>=1.2.6 in /home/codespace/anaconda3/lib/python3.9/site-packages (from opentelemetry-api<3,>=1.9.0->mlflow-skinny==2.17.2->mlflow) (1.2.14)\n",
      "Requirement already satisfied: wrapt<2,>=1.10 in /home/codespace/anaconda3/lib/python3.9/site-packages (from deprecated>=1.2.6->opentelemetry-api<3,>=1.9.0->mlflow-skinny==2.17.2->mlflow) (1.12.1)\n",
      "Requirement already satisfied: opentelemetry-semantic-conventions==0.48b0 in /home/codespace/anaconda3/lib/python3.9/site-packages (from opentelemetry-sdk<3,>=1.9.0->mlflow-skinny==2.17.2->mlflow) (0.48b0)\n",
      "Requirement already satisfied: pytz>=2020.1 in /home/codespace/anaconda3/lib/python3.9/site-packages (from pandas<3->mlflow) (2021.3)\n",
      "Requirement already satisfied: pyasn1<0.5.0,>=0.4.6 in /home/codespace/anaconda3/lib/python3.9/site-packages (from pyasn1-modules>=0.2.1->google-auth~=2.0->databricks-sdk<1,>=0.20.0->mlflow-skinny==2.17.2->mlflow) (0.4.8)\n",
      "Requirement already satisfied: six>=1.5 in /home/codespace/anaconda3/lib/python3.9/site-packages (from python-dateutil<3,>=2.7.0->graphene<4->mlflow) (1.16.0)\n",
      "Requirement already satisfied: certifi>=2017.4.17 in /home/codespace/anaconda3/lib/python3.9/site-packages (from requests<3,>=2.17.3->mlflow-skinny==2.17.2->mlflow) (2021.10.8)\n",
      "Requirement already satisfied: idna<4,>=2.5 in /home/codespace/anaconda3/lib/python3.9/site-packages (from requests<3,>=2.17.3->mlflow-skinny==2.17.2->mlflow) (3.3)\n",
      "Requirement already satisfied: charset-normalizer<4,>=2 in /home/codespace/anaconda3/lib/python3.9/site-packages (from requests<3,>=2.17.3->mlflow-skinny==2.17.2->mlflow) (2.0.4)\n"
     ]
    },
    {
     "name": "stdout",
     "output_type": "stream",
     "text": [
      "Requirement already satisfied: joblib>=0.11 in /home/codespace/anaconda3/lib/python3.9/site-packages (from scikit-learn<2->mlflow) (1.1.0)\n",
      "Requirement already satisfied: threadpoolctl>=2.0.0 in /home/codespace/anaconda3/lib/python3.9/site-packages (from scikit-learn<2->mlflow) (2.2.0)\n",
      "Requirement already satisfied: greenlet!=0.4.17 in /home/codespace/anaconda3/lib/python3.9/site-packages (from sqlalchemy<3,>=1.4.0->mlflow) (1.1.1)\n"
     ]
    }
   ],
   "source": [
    "!pip install mlflow"
   ]
  },
  {
   "cell_type": "code",
   "execution_count": null,
   "id": "8149adb4",
   "metadata": {},
   "outputs": [
    {
     "name": "stdout",
     "output_type": "stream",
     "text": [
      "2024/11/03 13:13:18 INFO mlflow.tracking.fluent: Autologging successfully enabled for sklearn.\n",
      "2024/11/03 13:13:19 WARNING mlflow.sklearn: Failed to log training dataset information to MLflow Tracking. Reason: 'numpy.ndarray' object has no attribute 'toarray'\n",
      "2024/11/03 13:13:32 WARNING mlflow.utils.environment: Encountered an unexpected error while inferring pip requirements (model URI: /tmp/tmpuk1cwpge/model/model.pkl, flavor: sklearn). Fall back to return ['scikit-learn==1.0.2', 'cloudpickle==2.0.0']. Set logging level to DEBUG to see the full traceback. \n",
      "Experiment ID: 247086600695916755, Name: random-forest-hyperopt\n",
      "The value of min_samples_split is: 9\n",
      "[2024-11-03 13:13:37 +0000] [12196] [INFO] Starting gunicorn 23.0.0\n",
      "[2024-11-03 13:13:37 +0000] [12196] [INFO] Listening at: http://127.0.0.1:5000 (12196)\n",
      "[2024-11-03 13:13:37 +0000] [12196] [INFO] Using worker: sync\n",
      "[2024-11-03 13:13:37 +0000] [12197] [INFO] Booting worker with pid: 12197\n",
      "[2024-11-03 13:13:37 +0000] [12198] [INFO] Booting worker with pid: 12198\n",
      "[2024-11-03 13:13:37 +0000] [12199] [INFO] Booting worker with pid: 12199\n",
      "[2024-11-03 13:13:37 +0000] [12200] [INFO] Booting worker with pid: 12200\n"
     ]
    }
   ],
   "source": [
    "!python train.py\n",
    "\n",
    "import mlflow\n",
    "from mlflow.tracking import MlflowClient\n",
    "\n",
    "client = MlflowClient()\n",
    "\n",
    "# Get experiments\n",
    "experiments = client.search_experiments()\n",
    "\n",
    "for exp in experiments:\n",
    "    print(f\"Experiment ID: {exp.experiment_id}, Name: {exp.name}\")\n",
    "    \n",
    "    # Get runs for this experiment\n",
    "    runs = client.search_runs(experiment_ids=[exp.experiment_id])\n",
    "    \n",
    "    if runs:\n",
    "        latest_run = runs[0]\n",
    "        if 'min_samples_split' in latest_run.data.params:\n",
    "            min_samples_split = latest_run.data.params['min_samples_split']\n",
    "            print(f\"The value of min_samples_split is: {min_samples_split}\")\n",
    "            break\n",
    "    else:\n",
    "        print(\"No runs\")\n",
    "\n",
    "!mlflow ui"
   ]
  },
  {
   "cell_type": "markdown",
   "id": "97378efb",
   "metadata": {},
   "source": [
    "Q5"
   ]
  },
  {
   "cell_type": "code",
   "execution_count": 5,
   "id": "aa595adf",
   "metadata": {},
   "outputs": [
    {
     "name": "stdout",
     "output_type": "stream",
     "text": [
      "Requirement already satisfied: numpy in /home/codespace/anaconda3/lib/python3.9/site-packages (1.21.5)\n",
      "Requirement already satisfied: scikit-learn in /home/codespace/anaconda3/lib/python3.9/site-packages (1.0.2)\n",
      "Collecting hyperopt\n",
      "  Downloading hyperopt-0.2.7-py2.py3-none-any.whl (1.6 MB)\n",
      "\u001b[K     |████████████████████████████████| 1.6 MB 16.6 MB/s eta 0:00:01\n",
      "\u001b[?25hRequirement already satisfied: mlflow in /home/codespace/anaconda3/lib/python3.9/site-packages (2.17.2)\n",
      "Requirement already satisfied: click in /home/codespace/anaconda3/lib/python3.9/site-packages (8.0.4)\n",
      "Requirement already satisfied: joblib>=0.11 in /home/codespace/anaconda3/lib/python3.9/site-packages (from scikit-learn) (1.1.0)\n",
      "Requirement already satisfied: scipy>=1.1.0 in /home/codespace/anaconda3/lib/python3.9/site-packages (from scikit-learn) (1.7.3)\n",
      "Requirement already satisfied: threadpoolctl>=2.0.0 in /home/codespace/anaconda3/lib/python3.9/site-packages (from scikit-learn) (2.2.0)\n",
      "Collecting py4j\n",
      "  Downloading py4j-0.10.9.7-py2.py3-none-any.whl (200 kB)\n",
      "\u001b[K     |████████████████████████████████| 200 kB 80.0 MB/s eta 0:00:01\n",
      "\u001b[?25hRequirement already satisfied: tqdm in /home/codespace/anaconda3/lib/python3.9/site-packages (from hyperopt) (4.64.0)\n",
      "Requirement already satisfied: cloudpickle in /home/codespace/anaconda3/lib/python3.9/site-packages (from hyperopt) (2.0.0)\n",
      "Requirement already satisfied: future in /home/codespace/anaconda3/lib/python3.9/site-packages (from hyperopt) (0.18.2)\n",
      "Requirement already satisfied: networkx>=2.2 in /home/codespace/anaconda3/lib/python3.9/site-packages (from hyperopt) (2.7.1)\n",
      "Requirement already satisfied: six in /home/codespace/anaconda3/lib/python3.9/site-packages (from hyperopt) (1.16.0)\n",
      "Requirement already satisfied: docker<8,>=4.0.0 in /home/codespace/anaconda3/lib/python3.9/site-packages (from mlflow) (7.1.0)\n",
      "Requirement already satisfied: markdown<4,>=3.3 in /home/codespace/anaconda3/lib/python3.9/site-packages (from mlflow) (3.3.4)\n",
      "Requirement already satisfied: pandas<3 in /home/codespace/anaconda3/lib/python3.9/site-packages (from mlflow) (1.4.2)\n",
      "Requirement already satisfied: Jinja2<4,>=2.11 in /home/codespace/anaconda3/lib/python3.9/site-packages (from mlflow) (2.11.3)\n",
      "Requirement already satisfied: mlflow-skinny==2.17.2 in /home/codespace/anaconda3/lib/python3.9/site-packages (from mlflow) (2.17.2)\n",
      "Requirement already satisfied: matplotlib<4 in /home/codespace/anaconda3/lib/python3.9/site-packages (from mlflow) (3.5.1)\n",
      "Requirement already satisfied: Flask<4 in /home/codespace/anaconda3/lib/python3.9/site-packages (from mlflow) (1.1.2)\n",
      "Requirement already satisfied: pyarrow<18,>=4.0.0 in /home/codespace/anaconda3/lib/python3.9/site-packages (from mlflow) (17.0.0)\n",
      "Requirement already satisfied: gunicorn<24 in /home/codespace/anaconda3/lib/python3.9/site-packages (from mlflow) (23.0.0)\n",
      "Requirement already satisfied: alembic!=1.10.0,<2 in /home/codespace/anaconda3/lib/python3.9/site-packages (from mlflow) (1.13.3)\n",
      "Requirement already satisfied: sqlalchemy<3,>=1.4.0 in /home/codespace/anaconda3/lib/python3.9/site-packages (from mlflow) (1.4.32)\n",
      "Requirement already satisfied: graphene<4 in /home/codespace/anaconda3/lib/python3.9/site-packages (from mlflow) (3.4.1)\n",
      "Requirement already satisfied: sqlparse<1,>=0.4.0 in /home/codespace/anaconda3/lib/python3.9/site-packages (from mlflow-skinny==2.17.2->mlflow) (0.5.1)\n",
      "Requirement already satisfied: opentelemetry-sdk<3,>=1.9.0 in /home/codespace/anaconda3/lib/python3.9/site-packages (from mlflow-skinny==2.17.2->mlflow) (1.27.0)\n",
      "Requirement already satisfied: gitpython<4,>=3.1.9 in /home/codespace/anaconda3/lib/python3.9/site-packages (from mlflow-skinny==2.17.2->mlflow) (3.1.43)\n",
      "Requirement already satisfied: protobuf<6,>=3.12.0 in /home/codespace/anaconda3/lib/python3.9/site-packages (from mlflow-skinny==2.17.2->mlflow) (3.19.1)\n",
      "Requirement already satisfied: opentelemetry-api<3,>=1.9.0 in /home/codespace/anaconda3/lib/python3.9/site-packages (from mlflow-skinny==2.17.2->mlflow) (1.27.0)\n",
      "Requirement already satisfied: requests<3,>=2.17.3 in /home/codespace/anaconda3/lib/python3.9/site-packages (from mlflow-skinny==2.17.2->mlflow) (2.32.3)\n",
      "Requirement already satisfied: packaging<25 in /home/codespace/anaconda3/lib/python3.9/site-packages (from mlflow-skinny==2.17.2->mlflow) (21.3)\n",
      "Requirement already satisfied: cachetools<6,>=5.0.0 in /home/codespace/anaconda3/lib/python3.9/site-packages (from mlflow-skinny==2.17.2->mlflow) (5.5.0)\n",
      "Requirement already satisfied: pyyaml<7,>=5.1 in /home/codespace/anaconda3/lib/python3.9/site-packages (from mlflow-skinny==2.17.2->mlflow) (6.0)\n",
      "Requirement already satisfied: importlib-metadata!=4.7.0,<9,>=3.7.0 in /home/codespace/anaconda3/lib/python3.9/site-packages (from mlflow-skinny==2.17.2->mlflow) (8.4.0)\n",
      "Requirement already satisfied: databricks-sdk<1,>=0.20.0 in /home/codespace/anaconda3/lib/python3.9/site-packages (from mlflow-skinny==2.17.2->mlflow) (0.36.0)\n",
      "Requirement already satisfied: typing-extensions>=4 in /home/codespace/anaconda3/lib/python3.9/site-packages (from alembic!=1.10.0,<2->mlflow) (4.12.2)\n",
      "Requirement already satisfied: Mako in /home/codespace/anaconda3/lib/python3.9/site-packages (from alembic!=1.10.0,<2->mlflow) (1.3.6)\n",
      "Requirement already satisfied: google-auth~=2.0 in /home/codespace/anaconda3/lib/python3.9/site-packages (from databricks-sdk<1,>=0.20.0->mlflow-skinny==2.17.2->mlflow) (2.35.0)\n",
      "Requirement already satisfied: urllib3>=1.26.0 in /home/codespace/anaconda3/lib/python3.9/site-packages (from docker<8,>=4.0.0->mlflow) (1.26.9)\n",
      "Requirement already satisfied: itsdangerous>=0.24 in /home/codespace/anaconda3/lib/python3.9/site-packages (from Flask<4->mlflow) (2.0.1)\n",
      "Requirement already satisfied: Werkzeug>=0.15 in /home/codespace/anaconda3/lib/python3.9/site-packages (from Flask<4->mlflow) (2.0.3)\n",
      "Requirement already satisfied: gitdb<5,>=4.0.1 in /home/codespace/anaconda3/lib/python3.9/site-packages (from gitpython<4,>=3.1.9->mlflow-skinny==2.17.2->mlflow) (4.0.11)\n",
      "Requirement already satisfied: smmap<6,>=3.0.1 in /home/codespace/anaconda3/lib/python3.9/site-packages (from gitdb<5,>=4.0.1->gitpython<4,>=3.1.9->mlflow-skinny==2.17.2->mlflow) (5.0.1)\n",
      "Requirement already satisfied: pyasn1-modules>=0.2.1 in /home/codespace/anaconda3/lib/python3.9/site-packages (from google-auth~=2.0->databricks-sdk<1,>=0.20.0->mlflow-skinny==2.17.2->mlflow) (0.2.8)\n",
      "Requirement already satisfied: rsa<5,>=3.1.4 in /home/codespace/anaconda3/lib/python3.9/site-packages (from google-auth~=2.0->databricks-sdk<1,>=0.20.0->mlflow-skinny==2.17.2->mlflow) (4.7.2)\n",
      "Requirement already satisfied: graphql-core<3.3,>=3.1 in /home/codespace/anaconda3/lib/python3.9/site-packages (from graphene<4->mlflow) (3.2.5)\n",
      "Requirement already satisfied: graphql-relay<3.3,>=3.1 in /home/codespace/anaconda3/lib/python3.9/site-packages (from graphene<4->mlflow) (3.2.0)\n",
      "Requirement already satisfied: python-dateutil<3,>=2.7.0 in /home/codespace/anaconda3/lib/python3.9/site-packages (from graphene<4->mlflow) (2.8.2)\n",
      "Requirement already satisfied: zipp>=0.5 in /home/codespace/anaconda3/lib/python3.9/site-packages (from importlib-metadata!=4.7.0,<9,>=3.7.0->mlflow-skinny==2.17.2->mlflow) (3.7.0)\n",
      "Requirement already satisfied: MarkupSafe>=0.23 in /home/codespace/anaconda3/lib/python3.9/site-packages (from Jinja2<4,>=2.11->mlflow) (2.0.1)\n",
      "Requirement already satisfied: pyparsing>=2.2.1 in /home/codespace/anaconda3/lib/python3.9/site-packages (from matplotlib<4->mlflow) (3.0.4)\n",
      "Requirement already satisfied: fonttools>=4.22.0 in /home/codespace/anaconda3/lib/python3.9/site-packages (from matplotlib<4->mlflow) (4.25.0)\n",
      "Requirement already satisfied: pillow>=6.2.0 in /home/codespace/anaconda3/lib/python3.9/site-packages (from matplotlib<4->mlflow) (9.0.1)\n",
      "Requirement already satisfied: kiwisolver>=1.0.1 in /home/codespace/anaconda3/lib/python3.9/site-packages (from matplotlib<4->mlflow) (1.3.2)\n",
      "Requirement already satisfied: cycler>=0.10 in /home/codespace/anaconda3/lib/python3.9/site-packages (from matplotlib<4->mlflow) (0.11.0)\n",
      "Requirement already satisfied: deprecated>=1.2.6 in /home/codespace/anaconda3/lib/python3.9/site-packages (from opentelemetry-api<3,>=1.9.0->mlflow-skinny==2.17.2->mlflow) (1.2.14)\n",
      "Requirement already satisfied: wrapt<2,>=1.10 in /home/codespace/anaconda3/lib/python3.9/site-packages (from deprecated>=1.2.6->opentelemetry-api<3,>=1.9.0->mlflow-skinny==2.17.2->mlflow) (1.12.1)\n",
      "Requirement already satisfied: opentelemetry-semantic-conventions==0.48b0 in /home/codespace/anaconda3/lib/python3.9/site-packages (from opentelemetry-sdk<3,>=1.9.0->mlflow-skinny==2.17.2->mlflow) (0.48b0)\n"
     ]
    },
    {
     "name": "stdout",
     "output_type": "stream",
     "text": [
      "Requirement already satisfied: pytz>=2020.1 in /home/codespace/anaconda3/lib/python3.9/site-packages (from pandas<3->mlflow) (2021.3)\n",
      "Requirement already satisfied: pyasn1<0.5.0,>=0.4.6 in /home/codespace/anaconda3/lib/python3.9/site-packages (from pyasn1-modules>=0.2.1->google-auth~=2.0->databricks-sdk<1,>=0.20.0->mlflow-skinny==2.17.2->mlflow) (0.4.8)\n",
      "Requirement already satisfied: certifi>=2017.4.17 in /home/codespace/anaconda3/lib/python3.9/site-packages (from requests<3,>=2.17.3->mlflow-skinny==2.17.2->mlflow) (2021.10.8)\n",
      "Requirement already satisfied: charset-normalizer<4,>=2 in /home/codespace/anaconda3/lib/python3.9/site-packages (from requests<3,>=2.17.3->mlflow-skinny==2.17.2->mlflow) (2.0.4)\n",
      "Requirement already satisfied: idna<4,>=2.5 in /home/codespace/anaconda3/lib/python3.9/site-packages (from requests<3,>=2.17.3->mlflow-skinny==2.17.2->mlflow) (3.3)\n",
      "Requirement already satisfied: greenlet!=0.4.17 in /home/codespace/anaconda3/lib/python3.9/site-packages (from sqlalchemy<3,>=1.4.0->mlflow) (1.1.1)\n",
      "Installing collected packages: py4j, hyperopt\n",
      "Successfully installed hyperopt-0.2.7 py4j-0.10.9.7\n",
      "Note: you may need to restart the kernel to use updated packages.\n"
     ]
    }
   ],
   "source": [
    "pip install numpy scikit-learn hyperopt mlflow click"
   ]
  },
  {
   "cell_type": "code",
   "execution_count": 12,
   "id": "3d1cb78d",
   "metadata": {},
   "outputs": [
    {
     "name": "stdout",
     "output_type": "stream",
     "text": [
      "INFO:__main__:Python version: 3.9.12 (main, Apr  5 2022, 06:56:58) \n",
      "[GCC 7.5.0]\n",
      "INFO:__main__:MLflow version: 2.17.2\n",
      "INFO:__main__:MLflow tracking URI: http://localhost:5002\n",
      "INFO:__main__:Experiment 'random-forest-hyperopt' already exists with ID: 1\n",
      "INFO:__main__:Data path: ./output\n",
      "INFO:__main__:Number of trials: 15\n",
      "  0%|                                    | 0/15 [00:00<?, ?trial/s, best loss=?]INFO:hyperopt.tpe:build_posterior_wrapper took 0.001029 seconds\n",
      "INFO:hyperopt.tpe:TPE using 0 trials\n",
      "INFO:__main__:RMSE: 5.370086069268862\n",
      "2024/11/03 13:40:54 INFO mlflow.tracking._tracking_service.client: 🏃 View run efficient-quail-74 at: http://localhost:5002/#/experiments/1/runs/1eab2c0ba0c04ab0971ad665805d040e.\n",
      "\n",
      "2024/11/03 13:40:54 INFO mlflow.tracking._tracking_service.client: 🧪 View experiment at: http://localhost:5002/#/experiments/1.\n",
      "\n",
      "  7%|▋          | 1/15 [00:07<01:43,  7.38s/trial, best loss: 5.370086069268862]INFO:hyperopt.tpe:build_posterior_wrapper took 0.001280 seconds\n",
      "INFO:hyperopt.tpe:TPE using 1/1 trials with best loss 5.370086\n",
      "INFO:__main__:RMSE: 6.336044899923993\n",
      "2024/11/03 13:40:54 INFO mlflow.tracking._tracking_service.client: 🏃 View run rare-skunk-464 at: http://localhost:5002/#/experiments/1/runs/7658cc60997e4b7cb28090638b39a3f9.\n",
      "\n",
      "2024/11/03 13:40:54 INFO mlflow.tracking._tracking_service.client: 🧪 View experiment at: http://localhost:5002/#/experiments/1.\n",
      "\n",
      " 13%|█▍         | 2/15 [00:07<00:43,  3.32s/trial, best loss: 5.370086069268862]INFO:hyperopt.tpe:build_posterior_wrapper took 0.001899 seconds\n",
      "INFO:hyperopt.tpe:TPE using 2/2 trials with best loss 5.370086\n",
      "INFO:__main__:RMSE: 5.617650247001616\n",
      "2024/11/03 13:40:55 INFO mlflow.tracking._tracking_service.client: 🏃 View run sincere-robin-262 at: http://localhost:5002/#/experiments/1/runs/0d01ec0f41e949a3b68ae028f6025897.\n",
      "\n",
      "2024/11/03 13:40:55 INFO mlflow.tracking._tracking_service.client: 🧪 View experiment at: http://localhost:5002/#/experiments/1.\n",
      "\n",
      " 20%|██▏        | 3/15 [00:08<00:25,  2.09s/trial, best loss: 5.370086069268862]INFO:hyperopt.tpe:build_posterior_wrapper took 0.001103 seconds\n",
      "INFO:hyperopt.tpe:TPE using 3/3 trials with best loss 5.370086\n",
      "INFO:__main__:RMSE: 5.357490752366866\n",
      "2024/11/03 13:41:00 INFO mlflow.tracking._tracking_service.client: 🏃 View run fearless-loon-426 at: http://localhost:5002/#/experiments/1/runs/66dfd6a540ba4a3f86bfcb51c88adc19.\n",
      "\n",
      "2024/11/03 13:41:00 INFO mlflow.tracking._tracking_service.client: 🧪 View experiment at: http://localhost:5002/#/experiments/1.\n",
      "\n",
      " 27%|██▉        | 4/15 [00:13<00:36,  3.31s/trial, best loss: 5.357490752366866]INFO:hyperopt.tpe:build_posterior_wrapper took 0.001155 seconds\n",
      "INFO:hyperopt.tpe:TPE using 4/4 trials with best loss 5.357491\n",
      "INFO:__main__:RMSE: 5.4431408201543805\n",
      "2024/11/03 13:41:03 INFO mlflow.tracking._tracking_service.client: 🏃 View run upbeat-wolf-924 at: http://localhost:5002/#/experiments/1/runs/c8f75e50b2324fdf870a9a45bdaab787.\n",
      "\n",
      "2024/11/03 13:41:03 INFO mlflow.tracking._tracking_service.client: 🧪 View experiment at: http://localhost:5002/#/experiments/1.\n",
      "\n",
      " 33%|███▋       | 5/15 [00:16<00:30,  3.03s/trial, best loss: 5.357490752366866]INFO:hyperopt.tpe:build_posterior_wrapper took 0.001150 seconds\n",
      "INFO:hyperopt.tpe:TPE using 5/5 trials with best loss 5.357491\n",
      "INFO:__main__:RMSE: 5.354695072530291\n",
      "2024/11/03 13:41:11 INFO mlflow.tracking._tracking_service.client: 🏃 View run overjoyed-fish-867 at: http://localhost:5002/#/experiments/1/runs/efebca36d9184ffc9f43abc636bf9028.\n",
      "\n",
      "2024/11/03 13:41:11 INFO mlflow.tracking._tracking_service.client: 🧪 View experiment at: http://localhost:5002/#/experiments/1.\n",
      "\n",
      " 40%|████▍      | 6/15 [00:24<00:43,  4.86s/trial, best loss: 5.354695072530291]INFO:hyperopt.tpe:build_posterior_wrapper took 0.001235 seconds\n",
      "INFO:hyperopt.tpe:TPE using 6/6 trials with best loss 5.354695\n",
      "INFO:__main__:RMSE: 5.363707729018604\n",
      "2024/11/03 13:41:19 INFO mlflow.tracking._tracking_service.client: 🏃 View run thoughtful-crab-714 at: http://localhost:5002/#/experiments/1/runs/1c6c9297757248c4ad098fa3fbcd8de2.\n",
      "\n",
      "2024/11/03 13:41:19 INFO mlflow.tracking._tracking_service.client: 🧪 View experiment at: http://localhost:5002/#/experiments/1.\n",
      "\n",
      " 47%|█████▏     | 7/15 [00:32<00:47,  5.97s/trial, best loss: 5.354695072530291]INFO:hyperopt.tpe:build_posterior_wrapper took 0.001152 seconds\n",
      "INFO:hyperopt.tpe:TPE using 7/7 trials with best loss 5.354695\n",
      "INFO:__main__:RMSE: 5.4646431328121015\n",
      "2024/11/03 13:41:20 INFO mlflow.tracking._tracking_service.client: 🏃 View run masked-stork-443 at: http://localhost:5002/#/experiments/1/runs/2c5cc037ef0849c0a25b553cb1ccacde.\n",
      "\n",
      "2024/11/03 13:41:20 INFO mlflow.tracking._tracking_service.client: 🧪 View experiment at: http://localhost:5002/#/experiments/1.\n",
      "\n",
      " 53%|█████▊     | 8/15 [00:33<00:30,  4.39s/trial, best loss: 5.354695072530291]INFO:hyperopt.tpe:build_posterior_wrapper took 0.001079 seconds\n",
      "INFO:hyperopt.tpe:TPE using 8/8 trials with best loss 5.354695\n",
      "INFO:__main__:RMSE: 5.410518705423984\n",
      "2024/11/03 13:41:25 INFO mlflow.tracking._tracking_service.client: 🏃 View run gifted-shoat-312 at: http://localhost:5002/#/experiments/1/runs/161b782f36444c81ba57bd4f98960bac.\n",
      "\n",
      "2024/11/03 13:41:25 INFO mlflow.tracking._tracking_service.client: 🧪 View experiment at: http://localhost:5002/#/experiments/1.\n",
      "\n",
      " 60%|██████▌    | 9/15 [00:38<00:27,  4.62s/trial, best loss: 5.354695072530291]INFO:hyperopt.tpe:build_posterior_wrapper took 0.001072 seconds\n",
      "INFO:hyperopt.tpe:TPE using 9/9 trials with best loss 5.354695\n",
      "INFO:__main__:RMSE: 5.3633599989832135\n",
      "2024/11/03 13:41:30 INFO mlflow.tracking._tracking_service.client: 🏃 View run sedate-fowl-661 at: http://localhost:5002/#/experiments/1/runs/260c19c9b4744d10bc56d0ed6e0ca091.\n",
      "\n",
      "2024/11/03 13:41:30 INFO mlflow.tracking._tracking_service.client: 🧪 View experiment at: http://localhost:5002/#/experiments/1.\n",
      "\n",
      " 67%|██████▋   | 10/15 [00:43<00:22,  4.52s/trial, best loss: 5.354695072530291]INFO:hyperopt.tpe:build_posterior_wrapper took 0.001072 seconds\n",
      "INFO:hyperopt.tpe:TPE using 10/10 trials with best loss 5.354695\n",
      "INFO:__main__:RMSE: 5.335419588556921\n",
      "2024/11/03 13:41:33 INFO mlflow.tracking._tracking_service.client: 🏃 View run gifted-wolf-740 at: http://localhost:5002/#/experiments/1/runs/c86702b30b6e452d8bedffb691b7e838.\n",
      "\n",
      "2024/11/03 13:41:33 INFO mlflow.tracking._tracking_service.client: 🧪 View experiment at: http://localhost:5002/#/experiments/1.\n",
      "\n",
      " 73%|███████▎  | 11/15 [00:46<00:16,  4.15s/trial, best loss: 5.335419588556921]INFO:hyperopt.tpe:build_posterior_wrapper took 0.001133 seconds\n",
      "INFO:hyperopt.tpe:TPE using 11/11 trials with best loss 5.335420\n",
      "INFO:__main__:RMSE: 5.484068016681342\n",
      "2024/11/03 13:41:36 INFO mlflow.tracking._tracking_service.client: 🏃 View run bustling-newt-599 at: http://localhost:5002/#/experiments/1/runs/c601a3d1783041f98ae843ec03033156.\n",
      "\n",
      "2024/11/03 13:41:36 INFO mlflow.tracking._tracking_service.client: 🧪 View experiment at: http://localhost:5002/#/experiments/1.\n",
      "\n",
      " 80%|████████  | 12/15 [00:49<00:11,  3.71s/trial, best loss: 5.335419588556921]INFO:hyperopt.tpe:build_posterior_wrapper took 0.001127 seconds\n",
      "INFO:hyperopt.tpe:TPE using 12/12 trials with best loss 5.335420\n",
      "INFO:__main__:RMSE: 5.538069949003994\n",
      "2024/11/03 13:41:37 INFO mlflow.tracking._tracking_service.client: 🏃 View run enthused-eel-555 at: http://localhost:5002/#/experiments/1/runs/6bd81c1d9bdc43feacfa66f4b1ad1164.\n",
      "\n",
      "2024/11/03 13:41:37 INFO mlflow.tracking._tracking_service.client: 🧪 View experiment at: http://localhost:5002/#/experiments/1.\n",
      "\n",
      " 87%|████████▋ | 13/15 [00:50<00:05,  2.89s/trial, best loss: 5.335419588556921]INFO:hyperopt.tpe:build_posterior_wrapper took 0.001121 seconds\n",
      "INFO:hyperopt.tpe:TPE using 13/13 trials with best loss 5.335420\n",
      "INFO:__main__:RMSE: 5.37159585587677\n",
      "2024/11/03 13:41:40 INFO mlflow.tracking._tracking_service.client: 🏃 View run trusting-mole-26 at: http://localhost:5002/#/experiments/1/runs/0e1300173b704064954767ab19439516.\n",
      "\n",
      "2024/11/03 13:41:40 INFO mlflow.tracking._tracking_service.client: 🧪 View experiment at: http://localhost:5002/#/experiments/1.\n",
      "\n",
      " 93%|█████████▎| 14/15 [00:53<00:02,  2.94s/trial, best loss: 5.335419588556921]INFO:hyperopt.tpe:build_posterior_wrapper took 0.001080 seconds\n",
      "INFO:hyperopt.tpe:TPE using 14/14 trials with best loss 5.335420\n"
     ]
    },
    {
     "name": "stdout",
     "output_type": "stream",
     "text": [
      "INFO:__main__:RMSE: 5.355041749098929\n",
      "2024/11/03 13:41:45 INFO mlflow.tracking._tracking_service.client: 🏃 View run bedecked-slug-860 at: http://localhost:5002/#/experiments/1/runs/62fce371e9f24e028fdbf745fcd7dbce.\n",
      "\n",
      "2024/11/03 13:41:45 INFO mlflow.tracking._tracking_service.client: 🧪 View experiment at: http://localhost:5002/#/experiments/1.\n",
      "\n",
      "100%|██████████| 15/15 [00:58<00:00,  3.87s/trial, best loss: 5.335419588556921]\n",
      "2024/11/03 13:41:45 INFO mlflow.tracking._tracking_service.client: 🏃 View run worried-hare-633 at: http://localhost:5002/#/experiments/1/runs/f5c709f53f7d4c99ac1665db148a5e2f.\n",
      "2024/11/03 13:41:45 INFO mlflow.tracking._tracking_service.client: 🧪 View experiment at: http://localhost:5002/#/experiments/1.\n",
      "Best RMSE: 5.335419588556921\n"
     ]
    }
   ],
   "source": [
    "!python hpo.py"
   ]
  },
  {
   "cell_type": "markdown",
   "id": "618dab32",
   "metadata": {},
   "source": [
    "Q6"
   ]
  },
  {
   "cell_type": "code",
   "execution_count": 2,
   "id": "a7e0b9aa",
   "metadata": {},
   "outputs": [
    {
     "name": "stderr",
     "output_type": "stream",
     "text": [
      "[2024-11-03 17:37:40 +0000] [11457] [INFO] Starting gunicorn 23.0.0\n",
      "[2024-11-03 17:37:40 +0000] [11457] [INFO] Listening at: http://0.0.0.0:5001 (11457)\n",
      "[2024-11-03 17:37:40 +0000] [11457] [INFO] Using worker: sync\n",
      "[2024-11-03 17:37:40 +0000] [11458] [INFO] Booting worker with pid: 11458\n",
      "[2024-11-03 17:37:40 +0000] [11459] [INFO] Booting worker with pid: 11459\n",
      "[2024-11-03 17:37:40 +0000] [11460] [INFO] Booting worker with pid: 11460\n",
      "[2024-11-03 17:37:40 +0000] [11461] [INFO] Booting worker with pid: 11461\n"
     ]
    }
   ],
   "source": [
    "import subprocess\n",
    "\n",
    "# Start MLflow server\n",
    "server_process = subprocess.Popen([\"mlflow\", \"server\", \"--backend-store-uri\", \"sqlite:///mlflow.db\", \"--default-artifact-root\", \"./artifacts\", \"--host\", \"0.0.0.0\", \"--port\", \"5001\"])\n",
    "\n",
    "# Your MLflow script here\n",
    "# ...\n",
    "\n",
    "# Don't forget to stop the server when you're done\n",
    "#server_process.terminate()"
   ]
  },
  {
   "cell_type": "code",
   "execution_count": 5,
   "id": "87246430",
   "metadata": {},
   "outputs": [
    {
     "name": "stdout",
     "output_type": "stream",
     "text": [
      "2024/11/03 17:41:39 WARNING mlflow.sklearn: Failed to log training dataset information to MLflow Tracking. Reason: 'numpy.ndarray' object has no attribute 'toarray'\n",
      "2024/11/03 17:41:44 WARNING mlflow.utils.environment: Encountered an unexpected error while inferring pip requirements (model URI: /tmp/tmpm_nt_stn/model/model.pkl, flavor: sklearn). Fall back to return ['scikit-learn==1.0.2', 'cloudpickle==2.0.0']. Set logging level to DEBUG to see the full traceback. \n",
      "2024/11/03 17:41:49 INFO mlflow.tracking._tracking_service.client: 🏃 View run rumbling-koi-597 at: http://127.0.0.1:5001/#/experiments/2/runs/a85032cafc814ba89803c9f61603a1b9.\n",
      "2024/11/03 17:41:49 INFO mlflow.tracking._tracking_service.client: 🧪 View experiment at: http://127.0.0.1:5001/#/experiments/2.\n",
      "2024/11/03 17:41:49 WARNING mlflow.sklearn: Failed to log training dataset information to MLflow Tracking. Reason: 'numpy.ndarray' object has no attribute 'toarray'\n",
      "2024/11/03 17:41:54 WARNING mlflow.utils.environment: Encountered an unexpected error while inferring pip requirements (model URI: /tmp/tmpawq99imk/model/model.pkl, flavor: sklearn). Fall back to return ['scikit-learn==1.0.2', 'cloudpickle==2.0.0']. Set logging level to DEBUG to see the full traceback. \n",
      "2024/11/03 17:41:56 INFO mlflow.tracking._tracking_service.client: 🏃 View run glamorous-sheep-972 at: http://127.0.0.1:5001/#/experiments/2/runs/72d38c1116af44b8b65a725acaf7775c.\n",
      "2024/11/03 17:41:56 INFO mlflow.tracking._tracking_service.client: 🧪 View experiment at: http://127.0.0.1:5001/#/experiments/2.\n",
      "2024/11/03 17:41:56 WARNING mlflow.sklearn: Failed to log training dataset information to MLflow Tracking. Reason: 'numpy.ndarray' object has no attribute 'toarray'\n",
      "2024/11/03 17:42:00 WARNING mlflow.utils.environment: Encountered an unexpected error while inferring pip requirements (model URI: /tmp/tmp4gg3r3yv/model/model.pkl, flavor: sklearn). Fall back to return ['scikit-learn==1.0.2', 'cloudpickle==2.0.0']. Set logging level to DEBUG to see the full traceback. \n",
      "2024/11/03 17:42:02 INFO mlflow.tracking._tracking_service.client: 🏃 View run unequaled-ox-631 at: http://127.0.0.1:5001/#/experiments/2/runs/ecc05384d7254cf1b4bea7ee3dad29c0.\n",
      "2024/11/03 17:42:02 INFO mlflow.tracking._tracking_service.client: 🧪 View experiment at: http://127.0.0.1:5001/#/experiments/2.\n",
      "2024/11/03 17:42:02 WARNING mlflow.sklearn: Failed to log training dataset information to MLflow Tracking. Reason: 'numpy.ndarray' object has no attribute 'toarray'\n",
      "2024/11/03 17:42:07 WARNING mlflow.utils.environment: Encountered an unexpected error while inferring pip requirements (model URI: /tmp/tmp5q3ouxi2/model/model.pkl, flavor: sklearn). Fall back to return ['scikit-learn==1.0.2', 'cloudpickle==2.0.0']. Set logging level to DEBUG to see the full traceback. \n",
      "2024/11/03 17:42:09 INFO mlflow.tracking._tracking_service.client: 🏃 View run sneaky-asp-564 at: http://127.0.0.1:5001/#/experiments/2/runs/f32d449d530a4015b897df8d7f901222.\n",
      "2024/11/03 17:42:09 INFO mlflow.tracking._tracking_service.client: 🧪 View experiment at: http://127.0.0.1:5001/#/experiments/2.\n",
      "2024/11/03 17:42:09 WARNING mlflow.sklearn: Failed to log training dataset information to MLflow Tracking. Reason: 'numpy.ndarray' object has no attribute 'toarray'\n",
      "2024/11/03 17:42:19 WARNING mlflow.utils.environment: Encountered an unexpected error while inferring pip requirements (model URI: /tmp/tmpiopb6lbd/model/model.pkl, flavor: sklearn). Fall back to return ['scikit-learn==1.0.2', 'cloudpickle==2.0.0']. Set logging level to DEBUG to see the full traceback. \n",
      "2024/11/03 17:42:20 INFO mlflow.tracking._tracking_service.client: 🏃 View run unequaled-perch-266 at: http://127.0.0.1:5001/#/experiments/2/runs/72b6d7dc046041f28f98e0affd489a87.\n",
      "2024/11/03 17:42:20 INFO mlflow.tracking._tracking_service.client: 🧪 View experiment at: http://127.0.0.1:5001/#/experiments/2.\n",
      "Successfully registered model 'nyc-taxi-regressor'.\n",
      "2024/11/03 17:42:21 INFO mlflow.store.model_registry.abstract_store: Waiting up to 300 seconds for model version to finish creation. Model name: nyc-taxi-regressor, version 1\n",
      "Created version '1' of model 'nyc-taxi-regressor'.\n",
      "Test RMSE of the best model: 5.567\n"
     ]
    }
   ],
   "source": [
    "!python register_model.py --data_path ./output --top_n 5"
   ]
  },
  {
   "cell_type": "code",
   "execution_count": null,
   "id": "6e0ddba0",
   "metadata": {},
   "outputs": [],
   "source": []
  }
 ],
 "metadata": {
  "kernelspec": {
   "display_name": "Python 3 (ipykernel)",
   "language": "python",
   "name": "python3"
  },
  "language_info": {
   "codemirror_mode": {
    "name": "ipython",
    "version": 3
   },
   "file_extension": ".py",
   "mimetype": "text/x-python",
   "name": "python",
   "nbconvert_exporter": "python",
   "pygments_lexer": "ipython3",
   "version": "3.9.12"
  }
 },
 "nbformat": 4,
 "nbformat_minor": 5
}

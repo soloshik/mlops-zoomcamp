{
 "cells": [
  {
   "cell_type": "markdown",
   "id": "cad6da44",
   "metadata": {},
   "source": [
    "Q1"
   ]
  },
  {
   "cell_type": "code",
   "execution_count": 1,
   "id": "74113480",
   "metadata": {
    "scrolled": false
   },
   "outputs": [
    {
     "name": "stdout",
     "output_type": "stream",
     "text": [
      "predicted mean duration: 14.075093800068538\r\n"
     ]
    }
   ],
   "source": [
    "!python batch.py 2024 3"
   ]
  },
  {
   "cell_type": "markdown",
   "id": "c6ce13b0",
   "metadata": {},
   "source": [
    "Q2"
   ]
  },
  {
   "cell_type": "code",
   "execution_count": 3,
   "id": "af9d32c5",
   "metadata": {},
   "outputs": [
    {
     "name": "stdout",
     "output_type": "stream",
     "text": [
      "\u001b[1mCreating a virtualenv for this project\u001b[0m\n",
      "Pipfile: \u001b[1;33m/workspaces/mlops-zoomcamp/06-best-practices/\u001b[0m\u001b[1;33mPipfile\u001b[0m\n",
      "\u001b[1mUsing default python from\u001b[0m \u001b[1;33m/usr/local/py-utils/venvs/pipenv/bin/\u001b[0m\u001b[1;33mpython\u001b[0m\u001b[32m3.12.1\u001b[0m\u001b[32m \u001b[0m\u001b[1;32mto \u001b[0m\n",
      "\u001b[1;32mcreate virtualenv\u001b[0m\u001b[1;32m...\u001b[0m\n",
      "\u001b[2K\u001b[32m⠼\u001b[0m Creating virtual environment.....\u001b[36mcreated virtual environment CPython3.\u001b[0m\u001b[1;36m12.1\u001b[0m\u001b[36m.final.\u001b[0m\u001b[1;36m0\u001b[0m\u001b[36m-\u001b[0m\u001b[1;36m64\u001b[0m\u001b[36m in 310ms\u001b[0m\n",
      "\u001b[36m  creator \u001b[0m\n",
      "\u001b[1;36mCPython3Posix\u001b[0m\u001b[1;36m(\u001b[0m\u001b[36mdest\u001b[0m\u001b[36m=\u001b[0m\u001b[36m/home/codespace/.local/share/virtualenvs/\u001b[0m\u001b[36m06-best-practices-Eh\u001b[0m\n",
      "\u001b[36mTA5YkS\u001b[0m\u001b[36m, \u001b[0m\u001b[36mclear\u001b[0m\u001b[36m=\u001b[0m\u001b[3;36mFalse\u001b[0m\u001b[36m, \u001b[0m\u001b[36mno_vcs_ignore\u001b[0m\u001b[36m=\u001b[0m\u001b[3;36mFalse\u001b[0m\u001b[36m, \u001b[0m\u001b[36mglobal\u001b[0m\u001b[36m=\u001b[0m\u001b[3;36mFalse\u001b[0m\u001b[1;36m)\u001b[0m\n",
      "\u001b[36m  seeder \u001b[0m\u001b[1;36mFromAppData\u001b[0m\u001b[1;36m(\u001b[0m\u001b[36mdownload\u001b[0m\u001b[36m=\u001b[0m\u001b[3;36mFalse\u001b[0m\u001b[36m, \u001b[0m\u001b[36mpip\u001b[0m\u001b[36m=\u001b[0m\u001b[36mbundle\u001b[0m\u001b[36m, \u001b[0m\u001b[36mvia\u001b[0m\u001b[36m=\u001b[0m\u001b[36mcopy\u001b[0m\u001b[36m, \u001b[0m\n",
      "\u001b[36mapp_data_dir\u001b[0m\u001b[36m=\u001b[0m\u001b[36m/home/codespace/.local/share/\u001b[0m\u001b[36mvirtualenv\u001b[0m\u001b[1;36m)\u001b[0m\n",
      "\u001b[36m    added seed packages: \u001b[0m\u001b[36mpip\u001b[0m\u001b[36m==\u001b[0m\u001b[1;36m24.2\u001b[0m\n",
      "\u001b[36m  activators \u001b[0m\n",
      "\u001b[36mBashActivator,CShellActivator,FishActivator,NushellActivator,PowerShellActivator\u001b[0m\n",
      "\u001b[36m,PythonActivator\u001b[0m\n",
      "\n",
      "✔ Successfully created virtual environment!\n",
      "\u001b[2K\u001b[32m⠼\u001b[0m Creating virtual environment...\n",
      "\u001b[1A\u001b[2K\u001b[32mVirtualenv location: \u001b[0m\u001b[32m/home/codespace/.local/share/virtualenvs/\u001b[0m\u001b[32m06-best-practices-EhTA5YkS\u001b[0m\n",
      "\u001b[1mCreating a Pipfile for this project\u001b[0m\u001b[1;33m...\u001b[0m\n",
      "\u001b[1;32mInstalling pytest...\u001b[0m\n",
      "\u001b[?25lResolving pytest...\n",
      "\u001b[2K\u001b[1mAdded \u001b[0m\u001b[1;32mpytest\u001b[0m to Pipfile's \u001b[33m[dev-packages]\u001b[0m ...\n",
      "\u001b[2K✔ Installation Succeeded...\n",
      "\u001b[2K\u001b[32m⠋\u001b[0m Installing pytest...\n",
      "\u001b[1A\u001b[2K\u001b[1mPipfile.lock not found, creating\u001b[0m\u001b[1;33m...\u001b[0m\n",
      "Locking\u001b[0m \u001b[33m[packages]\u001b[0m dependencies...\u001b[0m\n",
      "Locking\u001b[0m \u001b[33m[dev-packages]\u001b[0m dependencies...\u001b[0m\n",
      "\u001b[?25lBuilding requirements...\n",
      "\u001b[2KResolving dependencies...es...\n",
      "\u001b[2K✔ Success! Locking dev-packages...\n",
      "\u001b[2K\u001b[32m⠋\u001b[0m Locking dev-packages...\n",
      "\u001b[1A\u001b[2K\u001b[1mUpdated Pipfile.lock (198f904cd8ec49da8176ca95d76e96b851887f729816bff095edc7aebdb54bd8)!\u001b[0m\n",
      "To activate this project's virtualenv, run \u001b[33mpipenv shell\u001b[0m.\n",
      "Alternatively, run a command inside the virtualenv with \u001b[33mpipenv run\u001b[0m.\n",
      "\u001b[1mInstalling dependencies from Pipfile.lock (b54bd8)...\u001b[0m\n",
      "\u001b[1mInstalling dependencies from Pipfile.lock (b54bd8)...\u001b[0m\n"
     ]
    }
   ],
   "source": [
    "!pipenv install --dev pytest"
   ]
  },
  {
   "cell_type": "code",
   "execution_count": 7,
   "id": "e0c5f6f1",
   "metadata": {},
   "outputs": [
    {
     "name": "stdout",
     "output_type": "stream",
     "text": [
      "total 8\r\n",
      "drwxrwxrwx+ 2 codespace codespace 4096 Nov 24 12:20 .\r\n",
      "drwxrwxrwx+ 4 codespace codespace 4096 Nov 24 12:21 ..\r\n",
      "-rw-rw-rw-  1 codespace codespace    0 Nov 24 12:20 __init__.py\r\n",
      "-rw-rw-rw-  1 codespace codespace    0 Nov 24 12:18 test_batch.py\r\n"
     ]
    }
   ],
   "source": [
    "!ls -la ./test"
   ]
  },
  {
   "cell_type": "code",
   "execution_count": null,
   "id": "491d9433",
   "metadata": {},
   "outputs": [],
   "source": [
    "!pytes -s test/test_batch.py\n"
   ]
  },
  {
   "cell_type": "code",
   "execution_count": null,
   "id": "741a9c3d",
   "metadata": {},
   "outputs": [],
   "source": []
  }
 ],
 "metadata": {
  "kernelspec": {
   "display_name": "Python [conda env:new_env6]",
   "language": "python",
   "name": "conda-env-new_env6-py"
  },
  "language_info": {
   "codemirror_mode": {
    "name": "ipython",
    "version": 3
   },
   "file_extension": ".py",
   "mimetype": "text/x-python",
   "name": "python",
   "nbconvert_exporter": "python",
   "pygments_lexer": "ipython3",
   "version": "3.10.15"
  }
 },
 "nbformat": 4,
 "nbformat_minor": 5
}
